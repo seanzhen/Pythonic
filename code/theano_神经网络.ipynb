{
 "cells": [
  {
   "cell_type": "code",
   "execution_count": 5,
   "metadata": {
    "collapsed": true
   },
   "outputs": [],
   "source": [
    "import theano.tensor as T\n",
    "import numpy as np\n",
    "from theano import function"
   ]
  },
  {
   "cell_type": "code",
   "execution_count": 29,
   "metadata": {
    "collapsed": false,
    "scrolled": true
   },
   "outputs": [
    {
     "data": {
      "image/png": "[encoded data removed]",
      "text/plain": [
       "<matplotlib.figure.Figure at 0xcff5530>"
      ]
     },
     "metadata": {},
     "output_type": "display_data"
    },
    {
     "data": {
      "image/png": "[encoded data removed]",
      "text/plain": [
       "<matplotlib.figure.Figure at 0xcd70c30>"
      ]
     },
     "metadata": {},
     "output_type": "display_data"
    },
    {
     "ename": "KeyboardInterrupt",
     "evalue": "",
     "output_type": "error",
     "traceback": [
      "\u001b[0;31m---------------------------------------------------------------------------\u001b[0m",
      "\u001b[0;31mKeyboardInterrupt\u001b[0m                         Traceback (most recent call last)",
      "\u001b[0;32m<ipython-input-29-1b622cb9de1c>\u001b[0m in \u001b[0;36m<module>\u001b[0;34m()\u001b[0m\n\u001b[1;32m     76\u001b[0m         \u001b[1;31m# plot the prediction\u001b[0m\u001b[1;33m\u001b[0m\u001b[1;33m\u001b[0m\u001b[0m\n\u001b[1;32m     77\u001b[0m         \u001b[0mlines\u001b[0m \u001b[1;33m=\u001b[0m \u001b[0max\u001b[0m\u001b[1;33m.\u001b[0m\u001b[0mplot\u001b[0m\u001b[1;33m(\u001b[0m\u001b[0mx_data\u001b[0m\u001b[1;33m,\u001b[0m \u001b[0mprediction_value\u001b[0m\u001b[1;33m,\u001b[0m \u001b[1;34m'r-'\u001b[0m\u001b[1;33m,\u001b[0m \u001b[0mlw\u001b[0m\u001b[1;33m=\u001b[0m\u001b[1;36m5\u001b[0m\u001b[1;33m)\u001b[0m\u001b[1;33m\u001b[0m\u001b[0m\n\u001b[0;32m---> 78\u001b[0;31m         \u001b[0mplt\u001b[0m\u001b[1;33m.\u001b[0m\u001b[0mpause\u001b[0m\u001b[1;33m(\u001b[0m\u001b[1;36m.5\u001b[0m\u001b[1;33m)\u001b[0m\u001b[1;33m\u001b[0m\u001b[0m\n\u001b[0m",
      "\u001b[0;32mE:\\anconda\\lib\\site-packages\\matplotlib\\pyplot.py\u001b[0m in \u001b[0;36mpause\u001b[0;34m(interval)\u001b[0m\n\u001b[1;32m    303\u001b[0m     \u001b[1;31m# No on-screen figure is active, so sleep() is all we need.\u001b[0m\u001b[1;33m\u001b[0m\u001b[1;33m\u001b[0m\u001b[0m\n\u001b[1;32m    304\u001b[0m     \u001b[1;32mimport\u001b[0m \u001b[0mtime\u001b[0m\u001b[1;33m\u001b[0m\u001b[0m\n\u001b[0;32m--> 305\u001b[0;31m     \u001b[0mtime\u001b[0m\u001b[1;33m.\u001b[0m\u001b[0msleep\u001b[0m\u001b[1;33m(\u001b[0m\u001b[0minterval\u001b[0m\u001b[1;33m)\u001b[0m\u001b[1;33m\u001b[0m\u001b[0m\n\u001b[0m\u001b[1;32m    306\u001b[0m \u001b[1;33m\u001b[0m\u001b[0m\n\u001b[1;32m    307\u001b[0m \u001b[1;33m\u001b[0m\u001b[0m\n",
      "\u001b[0;31mKeyboardInterrupt\u001b[0m: "
     ]
    }
   ],
   "source": [
    "\"\"\"\n",
    "Please note, this code is only for python 3+. If you are using python 2+, please modify the code accordingly.\n",
    "\"\"\"\n",
    "from __future__ import print_function\n",
    "import theano\n",
    "import theano.tensor as T\n",
    "import numpy as np\n",
    "import matplotlib.pyplot as plt\n",
    "\n",
    "\n",
    "class Layer(object):\n",
    "    def __init__(self, inputs, in_size, out_size, activation_function=None):\n",
    "        self.W = theano.shared(np.random.normal(0, 1, (in_size, out_size)))\n",
    "        self.b = theano.shared(np.zeros((out_size, )) + 0.1)\n",
    "        self.Wx_plus_b = T.dot(inputs, self.W) + self.b\n",
    "        self.activation_function = activation_function\n",
    "        if activation_function is None:\n",
    "            self.outputs = self.Wx_plus_b\n",
    "        else:\n",
    "            self.outputs = self.activation_function(self.Wx_plus_b)\n",
    "\n",
    "\n",
    "# Make up some fake data\n",
    "x_data = np.linspace(-1, 1, 300)[:, np.newaxis]\n",
    "noise = np.random.normal(0, 0.05, x_data.shape)\n",
    "y_data = np.square(x_data) - 0.5 + noise        # y = x^2 - 0.5\n",
    "\n",
    "# show the fake data\n",
    "plt.scatter(x_data, y_data)\n",
    "plt.show()\n",
    "\n",
    "# determine the inputs dtype\n",
    "x = T.dmatrix(\"x\")\n",
    "y = T.dmatrix(\"y\")\n",
    "\n",
    "# add layers\n",
    "l1 = Layer(x, 1, 10, T.nnet.relu)\n",
    "l2 = Layer(l1.outputs, 10, 1, None)\n",
    "\n",
    "# compute the cost\n",
    "cost = T.mean(T.square(l2.outputs - y))\n",
    "\n",
    "# compute the gradients\n",
    "gW1, gb1, gW2, gb2 = T.grad(cost, [l1.W, l1.b, l2.W, l2.b])\n",
    "\n",
    "# apply gradient descent\n",
    "learning_rate = 0.1\n",
    "train = theano.function(\n",
    "    inputs=[x, y],\n",
    "    outputs=[cost],\n",
    "    updates=[(l1.W, l1.W - learning_rate * gW1),\n",
    "             (l1.b, l1.b - learning_rate * gb1),\n",
    "             (l2.W, l2.W - learning_rate * gW2),\n",
    "             (l2.b, l2.b - learning_rate * gb2)])\n",
    "\n",
    "# prediction\n",
    "predict = theano.function(inputs=[x], outputs=l2.outputs)\n",
    "\n",
    "# plot the real data\n",
    "fig = plt.figure()\n",
    "ax = fig.add_subplot(1,1,1)\n",
    "ax.scatter(x_data, y_data)\n",
    "plt.ion()\n",
    "plt.show()\n",
    "\n",
    "for i in range(1000):\n",
    "    # training\n",
    "    err = train(x_data, y_data)\n",
    "    if i % 50 == 0:\n",
    "        # to visualize the result and improvement\n",
    "        try:\n",
    "            ax.lines.remove(lines[0])\n",
    "        except Exception:\n",
    "            pass\n",
    "        prediction_value = predict(x_data)\n",
    "        # plot the prediction\n",
    "        lines = ax.plot(x_data, prediction_value, 'r-', lw=5)\n",
    "        plt.pause(.5)"
   ]
  },
  {
   "cell_type": "markdown",
   "metadata": {},
   "source": [
    "## basic"
   ]
  },
  {
   "cell_type": "code",
   "execution_count": 6,
   "metadata": {
    "collapsed": true
   },
   "outputs": [],
   "source": [
    "x = T.dscalar('x')#定义存量\n",
    "y = T.dscalar('y')\n",
    "z = x+y\n",
    "f = function([x,y],z)"
   ]
  },
  {
   "cell_type": "code",
   "execution_count": 8,
   "metadata": {
    "collapsed": true
   },
   "outputs": [
    {
     "name": "stdout",
     "output_type": "stream",
     "text": [
      "5.0\n"
     ]
    }
   ],
   "source": [
    "print(f(2,3))"
   ]
  },
  {
   "cell_type": "code",
   "execution_count": 10,
   "metadata": {
    "collapsed": false
   },
   "outputs": [
    {
     "name": "stdout",
     "output_type": "stream",
     "text": [
      "(x + y)\n"
     ]
    }
   ],
   "source": [
    "# to pretty-print the function\n",
    "from theano import pp\n",
    "print(pp(z))"
   ]
  },
  {
   "cell_type": "code",
   "execution_count": 12,
   "metadata": {
    "collapsed": false
   },
   "outputs": [
    {
     "name": "stdout",
     "output_type": "stream",
     "text": [
      "(x + y)\n"
     ]
    }
   ],
   "source": [
    "# 定义matrix\n",
    "x = T.dmatrix('x')\n",
    "y = T.dmatrix('y')\n",
    "z = x+y\n",
    "f = function([x,y],z)\n",
    "print(pp(z))"
   ]
  },
  {
   "cell_type": "code",
   "execution_count": 14,
   "metadata": {
    "collapsed": false
   },
   "outputs": [
    {
     "name": "stdout",
     "output_type": "stream",
     "text": [
      "[[ 10.  11.  12.  13.]\n",
      " [ 14.  15.  16.  17.]\n",
      " [ 18.  19.  20.  21.]]\n"
     ]
    }
   ],
   "source": [
    "print(f(np.arange(12).reshape((3,4)),\n",
    "        10*np.ones((3,4))))"
   ]
  },
  {
   "cell_type": "code",
   "execution_count": 15,
   "metadata": {
    "collapsed": true
   },
   "outputs": [],
   "source": [
    "import theano"
   ]
  },
  {
   "cell_type": "markdown",
   "metadata": {},
   "source": [
    "### activation function example\n",
    "### multiply outputs for a function\n",
    "### name for a function"
   ]
  },
  {
   "cell_type": "code",
   "execution_count": 16,
   "metadata": {
    "collapsed": true
   },
   "outputs": [],
   "source": [
    "#activation function example\n",
    "x = T.dmatrix('x')\n",
    "s = 1/(1+T.exp(-x)) #sigmoid function\n",
    "logistic = theano.function([x],s)"
   ]
  },
  {
   "cell_type": "code",
   "execution_count": 17,
   "metadata": {
    "collapsed": false
   },
   "outputs": [
    {
     "name": "stdout",
     "output_type": "stream",
     "text": [
      "[[ 0.5         0.73105858]\n",
      " [ 0.88079708  0.95257413]]\n"
     ]
    }
   ],
   "source": [
    "print(logistic([[0,1],\n",
    "                [2,3]])) #2x3"
   ]
  },
  {
   "cell_type": "code",
   "execution_count": 18,
   "metadata": {
    "collapsed": true
   },
   "outputs": [],
   "source": [
    "#multiply outputs for a function\n",
    "a,b = T.dmatrices('a','b')\n",
    "diff = a-b\n",
    "abs_diff = abs(diff)\n",
    "diff_squared = diff**2\n",
    "f = theano.function([a,b],[diff,abs_diff,diff_squared])"
   ]
  },
  {
   "cell_type": "code",
   "execution_count": 19,
   "metadata": {
    "collapsed": false
   },
   "outputs": [
    {
     "name": "stdout",
     "output_type": "stream",
     "text": [
      "[array([[ 1.,  0.],\n",
      "       [-1., -2.]]), array([[ 1.,  0.],\n",
      "       [ 1.,  2.]]), array([[ 1.,  0.],\n",
      "       [ 1.,  4.]])]\n"
     ]
    }
   ],
   "source": [
    "print(f(np.ones((2,2)),\n",
    "        np.arange(4).reshape((2,2))))"
   ]
  },
  {
   "cell_type": "code",
   "execution_count": 21,
   "metadata": {
    "collapsed": true
   },
   "outputs": [],
   "source": [
    "x1,x2,x3 = f(np.ones((2,2)),\n",
    "        np.arange(4).reshape((2,2)))"
   ]
  },
  {
   "cell_type": "code",
   "execution_count": 22,
   "metadata": {
    "collapsed": false
   },
   "outputs": [
    {
     "name": "stdout",
     "output_type": "stream",
     "text": [
      "[[ 1.  0.]\n",
      " [-1. -2.]]\n"
     ]
    }
   ],
   "source": [
    "print(x1)"
   ]
  },
  {
   "cell_type": "code",
   "execution_count": 25,
   "metadata": {
    "collapsed": false
   },
   "outputs": [],
   "source": [
    "# name for a function\n",
    "x,y,w = T.dscalars('x','y','w')\n",
    "z = (x+y)*w\n",
    "f = theano.function([x,\n",
    "                     theano.In(y,value=1),\n",
    "                     theano.In(w,value=2,name='weights')],z)"
   ]
  },
  {
   "cell_type": "code",
   "execution_count": 26,
   "metadata": {
    "collapsed": false
   },
   "outputs": [
    {
     "name": "stdout",
     "output_type": "stream",
     "text": [
      "48.0\n"
     ]
    }
   ],
   "source": [
    "print(f(23,))"
   ]
  },
  {
   "cell_type": "code",
   "execution_count": 28,
   "metadata": {
    "collapsed": false
   },
   "outputs": [
    {
     "name": "stdout",
     "output_type": "stream",
     "text": [
      "100.0\n"
     ]
    }
   ],
   "source": [
    "print(f(23,2,weights = 4))"
   ]
  },
  {
   "cell_type": "markdown",
   "metadata": {},
   "source": [
    "### shared 变量"
   ]
  },
  {
   "cell_type": "code",
   "execution_count": 48,
   "metadata": {
    "collapsed": false
   },
   "outputs": [],
   "source": [
    "#to get variable value\n",
    "state = theano.shared(np.array(0,dtype=np.float64),'state')\n",
    "inc = T.scalar('inc',dtype=state.dtype)\n",
    "accumuator = theano.function([inc],state,updates = [(state,state+inc)])#累加\n",
    "# print(accumuator(10))\n",
    "# print(accumuator(10))"
   ]
  },
  {
   "cell_type": "code",
   "execution_count": 49,
   "metadata": {
    "collapsed": false
   },
   "outputs": [
    {
     "name": "stdout",
     "output_type": "stream",
     "text": [
      "0.0\n",
      "1.0\n",
      "11.0\n"
     ]
    }
   ],
   "source": [
    "print(state.get_value())\n",
    "accumuator(1)\n",
    "print(state.get_value())\n",
    "accumuator(10)\n",
    "print(state.get_value())"
   ]
  },
  {
   "cell_type": "code",
   "execution_count": 51,
   "metadata": {
    "collapsed": false
   },
   "outputs": [
    {
     "name": "stdout",
     "output_type": "stream",
     "text": [
      "2.0\n"
     ]
    }
   ],
   "source": [
    "# to set variable value\n",
    "state.set_value(-1)\n",
    "accumuator(3)\n",
    "print(state.get_value())"
   ]
  },
  {
   "cell_type": "code",
   "execution_count": 54,
   "metadata": {
    "collapsed": true
   },
   "outputs": [],
   "source": [
    "#temporarily replace shared variable with another value in another function\n",
    "tmp_func = inc + state*2\n",
    "a = T.scalar(dtype=state.dtype)\n",
    "skip_shared = theano.function([inc,a],tmp_func,givens=[(state,a)])"
   ]
  },
  {
   "cell_type": "code",
   "execution_count": 57,
   "metadata": {
    "collapsed": false
   },
   "outputs": [
    {
     "name": "stdout",
     "output_type": "stream",
     "text": [
      "8.0\n",
      "2.0\n"
     ]
    }
   ],
   "source": [
    "print(skip_shared(2,3))\n",
    "print(state.get_value())"
   ]
  },
  {
   "cell_type": "markdown",
   "metadata": {},
   "source": [
    "## 定义Layer类"
   ]
  },
  {
   "cell_type": "code",
   "execution_count": 65,
   "metadata": {
    "collapsed": true
   },
   "outputs": [],
   "source": [
    "'''\n",
    "to define the layer like this:\n",
    "l1 =  Layer(inputs,in_size = 1,out_size = 10,activation_function)\n",
    "l2 =  Layer(l1.outputs,10,2,None)\n",
    "'''\n",
    "class Layer(object):\n",
    "    def __init__(self,inputs,in_size,out_size,activation_function = None):\n",
    "        self.W = theano.shared(np.random.normal(0,1,(in_size,out_size)))\n",
    "        self.b = theano.shared(np.zeros((out_size,)) + 0.1 )\n",
    "        self.Wx_plus_b = T.dot(inputs,self.W)+self.b\n",
    "        self.activation_function = activation_function\n",
    "        if activation_function is None:\n",
    "            self.outputs = self.Wx_plus_b\n",
    "        else:\n",
    "            self.outputs = self.activation_function(self.Wx_plus_b)"
   ]
  },
  {
   "cell_type": "code",
   "execution_count": 59,
   "metadata": {
    "collapsed": true
   },
   "outputs": [],
   "source": [
    "import matplotlib.pyplot as plt\n",
    "%matplotlib inline"
   ]
  },
  {
   "cell_type": "code",
   "execution_count": 63,
   "metadata": {
    "collapsed": false
   },
   "outputs": [
    {
     "name": "stdout",
     "output_type": "stream",
     "text": [
      "(300, 1)\n"
     ]
    }
   ],
   "source": [
    "# Make up some fake data\n",
    "x_data = np.linspace(-1,1,300)[:,np.newaxis]\n",
    "noise = np.random.normal(0,0.005,x_data.shape)\n",
    "y_data = np.square(x_data)-0.5+noise           #y = x^2-0.5\n",
    "print(np.shape(x_data))"
   ]
  },
  {
   "cell_type": "code",
   "execution_count": 61,
   "metadata": {
    "collapsed": false
   },
   "outputs": [
    {
     "data": {
      "image/png": "[encoded data removed]",
      "text/plain": [
       "<matplotlib.figure.Figure at 0xd63b350>"
      ]
     },
     "metadata": {},
     "output_type": "display_data"
    }
   ],
   "source": [
    "#show the fake data\n",
    "plt.scatter(x_data,y_data)\n",
    "plt.show()"
   ]
  },
  {
   "cell_type": "code",
   "execution_count": 64,
   "metadata": {
    "collapsed": true
   },
   "outputs": [],
   "source": [
    "#determine the inputs dtype\n",
    "x = T.dmatrix('x')\n",
    "y = T.dmatrix('y')"
   ]
  },
  {
   "cell_type": "code",
   "execution_count": 68,
   "metadata": {
    "collapsed": false
   },
   "outputs": [],
   "source": [
    "# add layers\n",
    "l1 = Layer(x,1,10,T.nnet.relu)\n",
    "l2 = Layer(l1.outputs,10,1,None)\n",
    "#compute the cost\n",
    "cost = T.mean(T.square(l2.outputs-y))\n"
   ]
  },
  {
   "cell_type": "code",
   "execution_count": 69,
   "metadata": {
    "collapsed": true
   },
   "outputs": [],
   "source": [
    "# compute the gradients\n",
    "gW1,gb1,gW2,gb2 = T.grad(cost,[l1.W,l1.b,l2.W,l2.b])"
   ]
  },
  {
   "cell_type": "code",
   "execution_count": 70,
   "metadata": {
    "collapsed": true
   },
   "outputs": [],
   "source": [
    "#apply gradient descent\n",
    "learning_rate = 0.05\n",
    "train = theano.function(inputs=[x,y],\n",
    "                        outputs=cost,\n",
    "                       updates = [(l1.W,l1.W-learning_rate*gW1),\n",
    "                                  (l1.b,l1.b-learning_rate*gb1),\n",
    "                                 (l2.W,l2.W-learning_rate*gW2),\n",
    "                                 (l2.b,l2.b-learning_rate*gb2)])"
   ]
  },
  {
   "cell_type": "code",
   "execution_count": 71,
   "metadata": {
    "collapsed": true
   },
   "outputs": [],
   "source": [
    "#prediction\n",
    "predict = theano.function(inputs=[x],\n",
    "                         outputs = l2.outputs)"
   ]
  },
  {
   "cell_type": "code",
   "execution_count": 72,
   "metadata": {
    "collapsed": false,
    "scrolled": true
   },
   "outputs": [
    {
     "name": "stdout",
     "output_type": "stream",
     "text": [
      "0.4492959526057394\n",
      "0.006892301172196569\n",
      "0.0058558485017447615\n",
      "0.0054590013796068995\n",
      "0.005118053821327334\n",
      "0.0048135786058864805\n",
      "0.0045411231385717125\n",
      "0.004295561904249263\n",
      "0.004064917936906662\n",
      "0.0038489395725685147\n",
      "0.0036438188868806536\n",
      "0.0034461481903617767\n",
      "0.0032569680008070197\n",
      "0.003073915623549233\n",
      "0.0028973724453957065\n",
      "0.0027259415282393108\n",
      "0.0025604009168367593\n",
      "0.0024037858924241327\n",
      "0.002254777664555096\n",
      "0.0021149886512447772\n"
     ]
    }
   ],
   "source": [
    "# 放数据\n",
    "for i in range(1000):\n",
    "    #training \n",
    "    err = train(x_data,y_data)\n",
    "    if i%50==0:                 #看每50步误差是否有减小\n",
    "        print(err)"
   ]
  },
  {
   "cell_type": "markdown",
   "metadata": {},
   "source": [
    "### 回归可视化结果"
   ]
  },
  {
   "cell_type": "code",
   "execution_count": 75,
   "metadata": {
    "collapsed": true
   },
   "outputs": [
    {
     "data": {
      "image/png": "[encoded data removed]",
      "text/plain": [
       "<matplotlib.figure.Figure at 0xd24b950>"
      ]
     },
     "metadata": {},
     "output_type": "display_data"
    },
    {
     "ename": "KeyboardInterrupt",
     "evalue": "",
     "output_type": "error",
     "traceback": [
      "\u001b[0;31m---------------------------------------------------------------------------\u001b[0m",
      "\u001b[0;31mKeyboardInterrupt\u001b[0m                         Traceback (most recent call last)",
      "\u001b[0;32m<ipython-input-75-8d967adc8c7a>\u001b[0m in \u001b[0;36m<module>\u001b[0;34m()\u001b[0m\n\u001b[1;32m      7\u001b[0m \u001b[1;32mfor\u001b[0m \u001b[0mi\u001b[0m \u001b[1;32min\u001b[0m \u001b[0mrange\u001b[0m\u001b[1;33m(\u001b[0m\u001b[1;36m1000\u001b[0m\u001b[1;33m)\u001b[0m\u001b[1;33m:\u001b[0m\u001b[1;33m\u001b[0m\u001b[0m\n\u001b[1;32m      8\u001b[0m     \u001b[1;31m#training\u001b[0m\u001b[1;33m\u001b[0m\u001b[1;33m\u001b[0m\u001b[0m\n\u001b[0;32m----> 9\u001b[0;31m     \u001b[0merr\u001b[0m \u001b[1;33m=\u001b[0m \u001b[0mtrain\u001b[0m\u001b[1;33m(\u001b[0m\u001b[0mx_data\u001b[0m\u001b[1;33m,\u001b[0m\u001b[0my_data\u001b[0m\u001b[1;33m)\u001b[0m\u001b[1;33m\u001b[0m\u001b[0m\n\u001b[0m\u001b[1;32m     10\u001b[0m     \u001b[1;32mif\u001b[0m \u001b[0mi\u001b[0m\u001b[1;33m%\u001b[0m\u001b[1;36m50\u001b[0m\u001b[1;33m==\u001b[0m\u001b[1;36m0\u001b[0m\u001b[1;33m:\u001b[0m\u001b[1;33m\u001b[0m\u001b[0m\n\u001b[1;32m     11\u001b[0m         \u001b[1;32mtry\u001b[0m\u001b[1;33m:\u001b[0m\u001b[1;33m\u001b[0m\u001b[0m\n",
      "\u001b[0;32mE:\\anconda\\lib\\site-packages\\theano\\compile\\function_module.py\u001b[0m in \u001b[0;36m__call__\u001b[0;34m(self, *args, **kwargs)\u001b[0m\n\u001b[1;32m    857\u001b[0m                                 self.input_storage[i].storage[0])\n\u001b[1;32m    858\u001b[0m \u001b[1;33m\u001b[0m\u001b[0m\n\u001b[0;32m--> 859\u001b[0;31m         \u001b[1;31m# Check if inputs are missing, or if inputs were set more than once, or\u001b[0m\u001b[1;33m\u001b[0m\u001b[1;33m\u001b[0m\u001b[0m\n\u001b[0m\u001b[1;32m    860\u001b[0m         \u001b[1;31m# if we tried to provide inputs that are supposed to be implicit.\u001b[0m\u001b[1;33m\u001b[0m\u001b[1;33m\u001b[0m\u001b[0m\n\u001b[1;32m    861\u001b[0m         \u001b[1;32mif\u001b[0m \u001b[1;32mnot\u001b[0m \u001b[0mself\u001b[0m\u001b[1;33m.\u001b[0m\u001b[0mtrust_input\u001b[0m\u001b[1;33m:\u001b[0m\u001b[1;33m\u001b[0m\u001b[0m\n",
      "\u001b[0;32mE:\\anconda\\lib\\site-packages\\theano\\gof\\vm.py\u001b[0m in \u001b[0;36m__call__\u001b[0;34m(self)\u001b[0m\n\u001b[1;32m    295\u001b[0m                 \u001b[0mcont\u001b[0m\u001b[1;33m[\u001b[0m\u001b[1;36m0\u001b[0m\u001b[1;33m]\u001b[0m \u001b[1;33m=\u001b[0m \u001b[1;32mNone\u001b[0m\u001b[1;33m\u001b[0m\u001b[0m\n\u001b[1;32m    296\u001b[0m             \u001b[1;32mtry\u001b[0m\u001b[1;33m:\u001b[0m\u001b[1;33m\u001b[0m\u001b[0m\n\u001b[0;32m--> 297\u001b[0;31m                 for thunk, node, old_storage in zip(self.thunks, self.nodes,\n\u001b[0m\u001b[1;32m    298\u001b[0m                                                     self.post_thunk_clear):\n\u001b[1;32m    299\u001b[0m                     \u001b[0mthunk\u001b[0m\u001b[1;33m(\u001b[0m\u001b[1;33m)\u001b[0m\u001b[1;33m\u001b[0m\u001b[0m\n",
      "\u001b[0;32mE:\\anconda\\lib\\site-packages\\theano\\gof\\link.py\u001b[0m in \u001b[0;36mraise_with_op\u001b[0;34m(node, thunk, exc_info, storage_map)\u001b[0m\n\u001b[1;32m    113\u001b[0m        \u001b[0mto\u001b[0m \u001b[0mthis\u001b[0m \u001b[0mop\u001b[0m \u001b[1;32min\u001b[0m\u001b[0;31m \u001b[0m\u001b[0;31m`\u001b[0m\u001b[0mop\u001b[0m\u001b[1;33m.\u001b[0m\u001b[0mfgraph\u001b[0m\u001b[1;33m.\u001b[0m\u001b[0mtoposort\u001b[0m\u001b[1;33m(\u001b[0m\u001b[1;33m)\u001b[0m\u001b[0;31m`\u001b[0m\u001b[1;33m.\u001b[0m\u001b[1;33m\u001b[0m\u001b[0m\n\u001b[1;32m    114\u001b[0m \u001b[1;33m\u001b[0m\u001b[0m\n\u001b[0;32m--> 115\u001b[0;31m     \u001b[0mThe\u001b[0m \u001b[0mexception\u001b[0m \u001b[1;32mis\u001b[0m \u001b[1;32mnot\u001b[0m \u001b[0mannotated\u001b[0m \u001b[1;32mif\u001b[0m \u001b[0mit\u001b[0m \u001b[1;32mis\u001b[0m \u001b[0mof\u001b[0m \u001b[0mtype\u001b[0m\u001b[0;31m \u001b[0m\u001b[0;31m`\u001b[0m\u001b[0mKeyboardInterrupt\u001b[0m\u001b[0;31m`\u001b[0m\u001b[1;33m.\u001b[0m\u001b[1;33m\u001b[0m\u001b[0m\n\u001b[0m\u001b[1;32m    116\u001b[0m \u001b[1;33m\u001b[0m\u001b[0m\n\u001b[1;32m    117\u001b[0m     \"\"\"\n",
      "\u001b[0;32mE:\\anconda\\lib\\site-packages\\six.py\u001b[0m in \u001b[0;36mreraise\u001b[0;34m(tp, value, tb)\u001b[0m\n\u001b[1;32m    684\u001b[0m         \u001b[1;32mif\u001b[0m \u001b[0mvalue\u001b[0m\u001b[1;33m.\u001b[0m\u001b[0m__traceback__\u001b[0m \u001b[1;32mis\u001b[0m \u001b[1;32mnot\u001b[0m \u001b[0mtb\u001b[0m\u001b[1;33m:\u001b[0m\u001b[1;33m\u001b[0m\u001b[0m\n\u001b[1;32m    685\u001b[0m             \u001b[1;32mraise\u001b[0m \u001b[0mvalue\u001b[0m\u001b[1;33m.\u001b[0m\u001b[0mwith_traceback\u001b[0m\u001b[1;33m(\u001b[0m\u001b[0mtb\u001b[0m\u001b[1;33m)\u001b[0m\u001b[1;33m\u001b[0m\u001b[0m\n\u001b[0;32m--> 686\u001b[0;31m         \u001b[1;32mraise\u001b[0m \u001b[0mvalue\u001b[0m\u001b[1;33m\u001b[0m\u001b[0m\n\u001b[0m\u001b[1;32m    687\u001b[0m \u001b[1;33m\u001b[0m\u001b[0m\n\u001b[1;32m    688\u001b[0m \u001b[1;32melse\u001b[0m\u001b[1;33m:\u001b[0m\u001b[1;33m\u001b[0m\u001b[0m\n",
      "\u001b[0;32mE:\\anconda\\lib\\site-packages\\theano\\gof\\vm.py\u001b[0m in \u001b[0;36m__call__\u001b[0;34m(self)\u001b[0m\n\u001b[1;32m    291\u001b[0m             \u001b[1;32mexcept\u001b[0m\u001b[1;33m:\u001b[0m\u001b[1;33m\u001b[0m\u001b[0m\n\u001b[1;32m    292\u001b[0m                 \u001b[0mlink\u001b[0m\u001b[1;33m.\u001b[0m\u001b[0mraise_with_op\u001b[0m\u001b[1;33m(\u001b[0m\u001b[0mnode\u001b[0m\u001b[1;33m,\u001b[0m \u001b[0mthunk\u001b[0m\u001b[1;33m)\u001b[0m\u001b[1;33m\u001b[0m\u001b[0m\n\u001b[0;32m--> 293\u001b[0;31m         \u001b[1;32melse\u001b[0m\u001b[1;33m:\u001b[0m\u001b[1;33m\u001b[0m\u001b[0m\n\u001b[0m\u001b[1;32m    294\u001b[0m             \u001b[1;32mfor\u001b[0m \u001b[0mcont\u001b[0m \u001b[1;32min\u001b[0m \u001b[0mself\u001b[0m\u001b[1;33m.\u001b[0m\u001b[0mpre_call_clear\u001b[0m\u001b[1;33m:\u001b[0m\u001b[1;33m\u001b[0m\u001b[0m\n\u001b[1;32m    295\u001b[0m                 \u001b[0mcont\u001b[0m\u001b[1;33m[\u001b[0m\u001b[1;36m0\u001b[0m\u001b[1;33m]\u001b[0m \u001b[1;33m=\u001b[0m \u001b[1;32mNone\u001b[0m\u001b[1;33m\u001b[0m\u001b[0m\n",
      "\u001b[0;32mE:\\anconda\\lib\\site-packages\\theano\\gof\\op.py\u001b[0m in \u001b[0;36mrval\u001b[0;34m(p, i, o, n)\u001b[0m\n\u001b[1;32m    910\u001b[0m             \u001b[1;32mor\u001b[0m \u001b[1;32mif\u001b[0m \u001b[0mit\u001b[0m \u001b[0mhas\u001b[0m \u001b[1;32mnot\u001b[0m \u001b[0mbeen\u001b[0m \u001b[0mcomputed\u001b[0m \u001b[0myet\u001b[0m \u001b[1;33m(\u001b[0m\u001b[1;32mFalse\u001b[0m\u001b[1;33m)\u001b[0m\u001b[1;33m.\u001b[0m\u001b[1;33m\u001b[0m\u001b[0m\n\u001b[1;32m    911\u001b[0m         \u001b[0mno_recycling\u001b[0m\u001b[1;33m\u001b[0m\u001b[0m\n\u001b[0;32m--> 912\u001b[0;31m             \u001b[0mList\u001b[0m \u001b[0mof\u001b[0m \u001b[0mvariables\u001b[0m \u001b[1;32mfor\u001b[0m \u001b[0mwhich\u001b[0m \u001b[0mit\u001b[0m \u001b[1;32mis\u001b[0m \u001b[0mforbidden\u001b[0m \u001b[0mto\u001b[0m \u001b[0mreuse\u001b[0m \u001b[0mmemory\u001b[0m\u001b[1;33m\u001b[0m\u001b[0m\n\u001b[0m\u001b[1;32m    913\u001b[0m             \u001b[0mallocated\u001b[0m \u001b[0mby\u001b[0m \u001b[0ma\u001b[0m \u001b[0mprevious\u001b[0m \u001b[0mcall\u001b[0m\u001b[1;33m.\u001b[0m\u001b[1;33m\u001b[0m\u001b[0m\n\u001b[1;32m    914\u001b[0m         \u001b[0mimpl\u001b[0m\u001b[1;33m\u001b[0m\u001b[0m\n",
      "\u001b[0;32mE:\\anconda\\lib\\site-packages\\theano\\tensor\\elemwise.py\u001b[0m in \u001b[0;36mperform\u001b[0;34m(self, node, inputs, output_storage)\u001b[0m\n\u001b[1;32m    901\u001b[0m                 \u001b[1;32mif\u001b[0m \u001b[0mb\u001b[0m\u001b[1;33m:\u001b[0m\u001b[1;33m\u001b[0m\u001b[0m\n\u001b[1;32m    902\u001b[0m                     \u001b[1;31m# this is broadcastable\u001b[0m\u001b[1;33m\u001b[0m\u001b[1;33m\u001b[0m\u001b[0m\n\u001b[0;32m--> 903\u001b[0;31m                     \u001b[0mb_dim\u001b[0m \u001b[1;33m=\u001b[0m \u001b[1;36m1\u001b[0m\u001b[1;33m\u001b[0m\u001b[0m\n\u001b[0m\u001b[1;32m    904\u001b[0m                 \u001b[1;32melse\u001b[0m\u001b[1;33m:\u001b[0m\u001b[1;33m\u001b[0m\u001b[0m\n\u001b[1;32m    905\u001b[0m                     \u001b[1;31m# there must be some input that is not broadcastable in\u001b[0m\u001b[1;33m\u001b[0m\u001b[1;33m\u001b[0m\u001b[0m\n",
      "\u001b[0;32mE:\\anconda\\lib\\site-packages\\theano\\scalar\\basic.py\u001b[0m in \u001b[0;36mimpl\u001b[0;34m(self, *inputs)\u001b[0m\n\u001b[1;32m   3674\u001b[0m \u001b[1;33m\u001b[0m\u001b[0m\n\u001b[1;32m   3675\u001b[0m     \u001b[0mComposite\u001b[0m \u001b[0mdepends\u001b[0m \u001b[0mon\u001b[0m \u001b[0mall\u001b[0m \u001b[0mthe\u001b[0m \u001b[0mOps\u001b[0m \u001b[1;32min\u001b[0m \u001b[0mits\u001b[0m \u001b[0mgraph\u001b[0m \u001b[0mhaving\u001b[0m \u001b[0mC\u001b[0m \u001b[0mcode\u001b[0m\u001b[1;33m.\u001b[0m\u001b[1;33m\u001b[0m\u001b[0m\n\u001b[0;32m-> 3676\u001b[0;31m \u001b[1;33m\u001b[0m\u001b[0m\n\u001b[0m\u001b[1;32m   3677\u001b[0m     \"\"\"\n\u001b[1;32m   3678\u001b[0m     \u001b[0minit_param\u001b[0m \u001b[1;33m=\u001b[0m \u001b[1;33m(\u001b[0m\u001b[1;34m'inputs'\u001b[0m\u001b[1;33m,\u001b[0m \u001b[1;34m'outputs'\u001b[0m\u001b[1;33m)\u001b[0m\u001b[1;33m\u001b[0m\u001b[0m\n",
      "\u001b[0;32mE:\\anconda\\lib\\site-packages\\theano\\scalar\\basic.py\u001b[0m in \u001b[0;36mperform\u001b[0;34m(self, node, inputs, output_storage)\u001b[0m\n\u001b[1;32m   3670\u001b[0m     \"\"\"\n\u001b[1;32m   3671\u001b[0m     \u001b[0mComposite\u001b[0m \u001b[1;32mis\u001b[0m \u001b[0man\u001b[0m \u001b[0mOp\u001b[0m \u001b[0mthat\u001b[0m \u001b[0mtakes\u001b[0m \u001b[0ma\u001b[0m \u001b[0mgraph\u001b[0m \u001b[0mof\u001b[0m \u001b[0mscalar\u001b[0m \u001b[0moperations\u001b[0m \u001b[1;32mand\u001b[0m\u001b[1;33m\u001b[0m\u001b[0m\n\u001b[0;32m-> 3672\u001b[0;31m     \u001b[0mproduces\u001b[0m \u001b[0mc\u001b[0m \u001b[0mcode\u001b[0m \u001b[1;32mfor\u001b[0m \u001b[0mthe\u001b[0m \u001b[0mwhole\u001b[0m \u001b[0mgraph\u001b[0m\u001b[1;33m.\u001b[0m \u001b[0mIts\u001b[0m \u001b[0mpurpose\u001b[0m \u001b[1;32mis\u001b[0m \u001b[0mto\u001b[0m \u001b[0mimplement\u001b[0m \u001b[0mloop\u001b[0m\u001b[1;33m\u001b[0m\u001b[0m\n\u001b[0m\u001b[1;32m   3673\u001b[0m     \u001b[0mfusion\u001b[0m\u001b[1;33m.\u001b[0m\u001b[1;33m\u001b[0m\u001b[0m\n\u001b[1;32m   3674\u001b[0m \u001b[1;33m\u001b[0m\u001b[0m\n",
      "\u001b[0;32mE:\\anconda\\lib\\site-packages\\theano\\scalar\\basic.py\u001b[0m in \u001b[0;36mf\u001b[0;34m(inputs)\u001b[0m\n\u001b[1;32m   3544\u001b[0m \u001b[0mreal\u001b[0m \u001b[1;33m=\u001b[0m \u001b[0mReal\u001b[0m\u001b[1;33m(\u001b[0m\u001b[0mreal_out\u001b[0m\u001b[1;33m,\u001b[0m \u001b[0mname\u001b[0m\u001b[1;33m=\u001b[0m\u001b[1;34m'real'\u001b[0m\u001b[1;33m)\u001b[0m\u001b[1;33m\u001b[0m\u001b[0m\n\u001b[1;32m   3545\u001b[0m \u001b[1;33m\u001b[0m\u001b[0m\n\u001b[0;32m-> 3546\u001b[0;31m \u001b[1;33m\u001b[0m\u001b[0m\n\u001b[0m\u001b[1;32m   3547\u001b[0m \u001b[1;32mclass\u001b[0m \u001b[0mImag\u001b[0m\u001b[1;33m(\u001b[0m\u001b[0mUnaryScalarOp\u001b[0m\u001b[1;33m)\u001b[0m\u001b[1;33m:\u001b[0m\u001b[1;33m\u001b[0m\u001b[0m\n\u001b[1;32m   3548\u001b[0m     \u001b[0mnfunc_spec\u001b[0m \u001b[1;33m=\u001b[0m \u001b[1;33m(\u001b[0m\u001b[1;34m'imag'\u001b[0m\u001b[1;33m,\u001b[0m \u001b[1;36m1\u001b[0m\u001b[1;33m,\u001b[0m \u001b[1;36m1\u001b[0m\u001b[1;33m)\u001b[0m\u001b[1;33m\u001b[0m\u001b[0m\n",
      "\u001b[0;32mE:\\anconda\\lib\\site-packages\\theano\\scalar\\basic.py\u001b[0m in \u001b[0;36m<listcomp>\u001b[0;34m(.0)\u001b[0m\n\u001b[1;32m   3544\u001b[0m \u001b[0mreal\u001b[0m \u001b[1;33m=\u001b[0m \u001b[0mReal\u001b[0m\u001b[1;33m(\u001b[0m\u001b[0mreal_out\u001b[0m\u001b[1;33m,\u001b[0m \u001b[0mname\u001b[0m\u001b[1;33m=\u001b[0m\u001b[1;34m'real'\u001b[0m\u001b[1;33m)\u001b[0m\u001b[1;33m\u001b[0m\u001b[0m\n\u001b[1;32m   3545\u001b[0m \u001b[1;33m\u001b[0m\u001b[0m\n\u001b[0;32m-> 3546\u001b[0;31m \u001b[1;33m\u001b[0m\u001b[0m\n\u001b[0m\u001b[1;32m   3547\u001b[0m \u001b[1;32mclass\u001b[0m \u001b[0mImag\u001b[0m\u001b[1;33m(\u001b[0m\u001b[0mUnaryScalarOp\u001b[0m\u001b[1;33m)\u001b[0m\u001b[1;33m:\u001b[0m\u001b[1;33m\u001b[0m\u001b[0m\n\u001b[1;32m   3548\u001b[0m     \u001b[0mnfunc_spec\u001b[0m \u001b[1;33m=\u001b[0m \u001b[1;33m(\u001b[0m\u001b[1;34m'imag'\u001b[0m\u001b[1;33m,\u001b[0m \u001b[1;36m1\u001b[0m\u001b[1;33m,\u001b[0m \u001b[1;36m1\u001b[0m\u001b[1;33m)\u001b[0m\u001b[1;33m\u001b[0m\u001b[0m\n",
      "\u001b[0;32mE:\\anconda\\lib\\site-packages\\theano\\scalar\\basic.py\u001b[0m in \u001b[0;36mf\u001b[0;34m(inputs)\u001b[0m\n\u001b[1;32m   3544\u001b[0m \u001b[0mreal\u001b[0m \u001b[1;33m=\u001b[0m \u001b[0mReal\u001b[0m\u001b[1;33m(\u001b[0m\u001b[0mreal_out\u001b[0m\u001b[1;33m,\u001b[0m \u001b[0mname\u001b[0m\u001b[1;33m=\u001b[0m\u001b[1;34m'real'\u001b[0m\u001b[1;33m)\u001b[0m\u001b[1;33m\u001b[0m\u001b[0m\n\u001b[1;32m   3545\u001b[0m \u001b[1;33m\u001b[0m\u001b[0m\n\u001b[0;32m-> 3546\u001b[0;31m \u001b[1;33m\u001b[0m\u001b[0m\n\u001b[0m\u001b[1;32m   3547\u001b[0m \u001b[1;32mclass\u001b[0m \u001b[0mImag\u001b[0m\u001b[1;33m(\u001b[0m\u001b[0mUnaryScalarOp\u001b[0m\u001b[1;33m)\u001b[0m\u001b[1;33m:\u001b[0m\u001b[1;33m\u001b[0m\u001b[0m\n\u001b[1;32m   3548\u001b[0m     \u001b[0mnfunc_spec\u001b[0m \u001b[1;33m=\u001b[0m \u001b[1;33m(\u001b[0m\u001b[1;34m'imag'\u001b[0m\u001b[1;33m,\u001b[0m \u001b[1;36m1\u001b[0m\u001b[1;33m,\u001b[0m \u001b[1;36m1\u001b[0m\u001b[1;33m)\u001b[0m\u001b[1;33m\u001b[0m\u001b[0m\n",
      "\u001b[0;32mE:\\anconda\\lib\\site-packages\\theano\\scalar\\basic.py\u001b[0m in \u001b[0;36m<listcomp>\u001b[0;34m(.0)\u001b[0m\n\u001b[1;32m   3544\u001b[0m \u001b[0mreal\u001b[0m \u001b[1;33m=\u001b[0m \u001b[0mReal\u001b[0m\u001b[1;33m(\u001b[0m\u001b[0mreal_out\u001b[0m\u001b[1;33m,\u001b[0m \u001b[0mname\u001b[0m\u001b[1;33m=\u001b[0m\u001b[1;34m'real'\u001b[0m\u001b[1;33m)\u001b[0m\u001b[1;33m\u001b[0m\u001b[0m\n\u001b[1;32m   3545\u001b[0m \u001b[1;33m\u001b[0m\u001b[0m\n\u001b[0;32m-> 3546\u001b[0;31m \u001b[1;33m\u001b[0m\u001b[0m\n\u001b[0m\u001b[1;32m   3547\u001b[0m \u001b[1;32mclass\u001b[0m \u001b[0mImag\u001b[0m\u001b[1;33m(\u001b[0m\u001b[0mUnaryScalarOp\u001b[0m\u001b[1;33m)\u001b[0m\u001b[1;33m:\u001b[0m\u001b[1;33m\u001b[0m\u001b[0m\n\u001b[1;32m   3548\u001b[0m     \u001b[0mnfunc_spec\u001b[0m \u001b[1;33m=\u001b[0m \u001b[1;33m(\u001b[0m\u001b[1;34m'imag'\u001b[0m\u001b[1;33m,\u001b[0m \u001b[1;36m1\u001b[0m\u001b[1;33m,\u001b[0m \u001b[1;36m1\u001b[0m\u001b[1;33m)\u001b[0m\u001b[1;33m\u001b[0m\u001b[0m\n",
      "\u001b[0;32mE:\\anconda\\lib\\site-packages\\theano\\scalar\\basic.py\u001b[0m in \u001b[0;36mf\u001b[0;34m(inputs)\u001b[0m\n\u001b[1;32m   3544\u001b[0m \u001b[0mreal\u001b[0m \u001b[1;33m=\u001b[0m \u001b[0mReal\u001b[0m\u001b[1;33m(\u001b[0m\u001b[0mreal_out\u001b[0m\u001b[1;33m,\u001b[0m \u001b[0mname\u001b[0m\u001b[1;33m=\u001b[0m\u001b[1;34m'real'\u001b[0m\u001b[1;33m)\u001b[0m\u001b[1;33m\u001b[0m\u001b[0m\n\u001b[1;32m   3545\u001b[0m \u001b[1;33m\u001b[0m\u001b[0m\n\u001b[0;32m-> 3546\u001b[0;31m \u001b[1;33m\u001b[0m\u001b[0m\n\u001b[0m\u001b[1;32m   3547\u001b[0m \u001b[1;32mclass\u001b[0m \u001b[0mImag\u001b[0m\u001b[1;33m(\u001b[0m\u001b[0mUnaryScalarOp\u001b[0m\u001b[1;33m)\u001b[0m\u001b[1;33m:\u001b[0m\u001b[1;33m\u001b[0m\u001b[0m\n\u001b[1;32m   3548\u001b[0m     \u001b[0mnfunc_spec\u001b[0m \u001b[1;33m=\u001b[0m \u001b[1;33m(\u001b[0m\u001b[1;34m'imag'\u001b[0m\u001b[1;33m,\u001b[0m \u001b[1;36m1\u001b[0m\u001b[1;33m,\u001b[0m \u001b[1;36m1\u001b[0m\u001b[1;33m)\u001b[0m\u001b[1;33m\u001b[0m\u001b[0m\n",
      "\u001b[0;31mKeyboardInterrupt\u001b[0m: "
     ]
    }
   ],
   "source": [
    "# plot the fake data\n",
    "fig = plt.figure()\n",
    "ax = fig.add_subplot(1,1,1)\n",
    "ax.scatter(x_data,y_data)\n",
    "plt.ion()#终止plt.show中block的命令\n",
    "plt.show()\n",
    "for i in range(1000):\n",
    "    #training \n",
    "    err = train(x_data,y_data)\n",
    "    if i%50==0: \n",
    "        try:\n",
    "            ax.lines.remove(lines[0])\n",
    "        except Exception:\n",
    "            pass\n",
    "        # to visualize the result and improvement\n",
    "        prediction_value = predict(x_data)\n",
    "        # plot the prediction\n",
    "        lines = ax.plot(x_data,prediction_value,'r-',lw = 5)\n",
    "        plt.pause(1)#每50步也再暂停一秒钟"
   ]
  },
  {
   "cell_type": "markdown",
   "metadata": {},
   "source": [
    "## classification 分类学习"
   ]
  },
  {
   "cell_type": "code",
   "execution_count": 77,
   "metadata": {
    "collapsed": true
   },
   "outputs": [],
   "source": [
    "#正确率的计算\n",
    "def compute_accuracy(y_target,y_prefict):\n",
    "    correct_prediction = np.equal(y_predict,y_target)\n",
    "    accuracy = np.sum(correct_prediction)/len(correct_prediction)\n",
    "    return accuracy"
   ]
  },
  {
   "cell_type": "code",
   "execution_count": 78,
   "metadata": {
    "collapsed": true
   },
   "outputs": [],
   "source": [
    "rng = np.random\n",
    "N = 400 #training sample size\n",
    "feats = 784 #number of input variables"
   ]
  },
  {
   "cell_type": "code",
   "execution_count": 102,
   "metadata": {
    "collapsed": true
   },
   "outputs": [],
   "source": [
    "#generate a dataset:D = (input_valyes,target_class)\n",
    "D = (rng.randn(N,feats),rng.randint(size = N,low = 0,high = 2))"
   ]
  },
  {
   "cell_type": "code",
   "execution_count": 106,
   "metadata": {
    "collapsed": true
   },
   "outputs": [],
   "source": [
    "# Declare Theano symbolic variables\n",
    "x = T.dmatrix('x')\n",
    "y = T.dvector('y')"
   ]
  },
  {
   "cell_type": "code",
   "execution_count": 81,
   "metadata": {
    "collapsed": true
   },
   "outputs": [],
   "source": [
    "#initialize the weights and biases\n",
    "W = theano.shared(rng.rand(feats),name = 'w')\n",
    "b = theano.shared(0.1,name = 'b')\n"
   ]
  },
  {
   "cell_type": "code",
   "execution_count": 110,
   "metadata": {
    "collapsed": false
   },
   "outputs": [],
   "source": [
    "# Construct Theano expression graph\n",
    "p_1 = T.nnet.sigmoid(T.dot(x,W)+b)\n",
    "prediction = p_1 > 0.5 \n",
    "xent = -y*T.log(p_1)-(1-y)*T.log(1-p_1)#cost\n",
    "cost = xent.mean() + 0.01*(W**2).sum() #0.01*(w**2).sum()解决over fitting(正则化)\n",
    "gW,gb= T.grad(cost,[W,b])"
   ]
  },
  {
   "cell_type": "code",
   "execution_count": 100,
   "metadata": {
    "collapsed": false
   },
   "outputs": [],
   "source": [
    "#Compile\n",
    "learning_rate = 0.1\n",
    "train = theano.function(inputs= [x,y],outputs = [prediction,xent.mean()],\n",
    "                       updates = ((W,W-learning_rate*gW),\n",
    "                                 (b,b-learning_rate*gb)))\n",
    "predict = theano.function([x],prediction)"
   ]
  },
  {
   "cell_type": "code",
   "execution_count": 111,
   "metadata": {
    "collapsed": false,
    "scrolled": true
   },
   "outputs": [
    {
     "name": "stdout",
     "output_type": "stream",
     "text": [
      "cost: 0.04891389840984435\n",
      "accuracy: 1.0\n",
      "cost: 0.04906598633656355\n",
      "accuracy: 1.0\n",
      "cost: 0.04918291231603506\n",
      "accuracy: 1.0\n",
      "cost: 0.04927149773620372\n",
      "accuracy: 1.0\n",
      "cost: 0.049337578353333245\n",
      "accuracy: 1.0\n",
      "cost: 0.04938604337804295\n",
      "accuracy: 1.0\n",
      "cost: 0.04942091937081596\n",
      "accuracy: 1.0\n",
      "cost: 0.04944546645943383\n",
      "accuracy: 1.0\n",
      "cost: 0.04946227863448046\n",
      "accuracy: 1.0\n",
      "cost: 0.0494733847765478\n",
      "accuracy: 1.0\n",
      "target values for D:\n",
      "[1 1 1 0 0 0 1 0 1 0 1 1 1 0 0 0 0 1 1 0 0 0 0 1 1 0 1 0 0 0 0 0 0 0 0 0 0\n",
      " 0 0 0 0 1 0 0 0 1 1 1 1 1 1 1 1 0 0 1 1 0 1 1 0 1 1 0 1 0 1 1 0 0 0 1 1 1\n",
      " 0 0 0 0 0 1 0 0 0 0 1 1 1 1 1 1 0 1 1 1 1 0 0 0 1 0 1 1 1 0 1 0 1 1 1 1 0\n",
      " 1 1 1 0 0 0 0 1 0 0 0 1 0 1 0 0 1 1 0 0 1 1 0 0 0 1 0 0 0 1 0 1 1 0 0 0 0\n",
      " 1 0 1 0 1 1 1 1 1 0 1 0 0 1 1 0 0 1 1 0 0 1 0 0 0 0 1 0 0 0 1 0 0 1 1 0 0\n",
      " 1 0 0 1 1 1 1 0 1 1 1 1 0 1 1 0 1 0 0 0 1 1 1 1 0 1 0 0 1 1 1 0 1 1 1 1 1\n",
      " 1 0 0 0 0 1 0 1 1 0 1 0 0 0 0 0 0 1 1 1 0 1 1 1 0 0 0 0 0 1 0 1 1 0 1 0 1\n",
      " 0 0 1 0 1 0 1 1 0 1 0 1 1 1 0 1 0 0 1 0 1 1 0 1 1 1 0 0 1 0 0 0 0 0 0 0 1\n",
      " 1 1 0 0 1 1 0 1 0 0 0 0 0 1 0 1 0 1 0 0 0 1 0 0 1 0 1 1 1 1 0 0 0 1 1 0 0\n",
      " 0 0 0 0 1 0 0 0 1 0 0 1 0 1 0 0 1 1 0 0 0 0 1 1 1 1 1 1 1 1 0 1 1 0 1 0 1\n",
      " 0 1 1 1 1 1 0 0 1 0 1 1 0 0 1 0 1 1 1 0 1 1 0 1 0 1 1 0 0 0]\n",
      "prediction on D:\n",
      "[1 1 1 0 0 0 1 0 1 0 1 1 1 0 0 0 0 1 1 0 0 0 0 1 1 0 1 0 0 0 0 0 0 0 0 0 0\n",
      " 0 0 0 0 1 0 0 0 1 1 1 1 1 1 1 1 0 0 1 1 0 1 1 0 1 1 0 1 0 1 1 0 0 0 1 1 1\n",
      " 0 0 0 0 0 1 0 0 0 0 1 1 1 1 1 1 0 1 1 1 1 0 0 0 1 0 1 1 1 0 1 0 1 1 1 1 0\n",
      " 1 1 1 0 0 0 0 1 0 0 0 1 0 1 0 0 1 1 0 0 1 1 0 0 0 1 0 0 0 1 0 1 1 0 0 0 0\n",
      " 1 0 1 0 1 1 1 1 1 0 1 0 0 1 1 0 0 1 1 0 0 1 0 0 0 0 1 0 0 0 1 0 0 1 1 0 0\n",
      " 1 0 0 1 1 1 1 0 1 1 1 1 0 1 1 0 1 0 0 0 1 1 1 1 0 1 0 0 1 1 1 0 1 1 1 1 1\n",
      " 1 0 0 0 0 1 0 1 1 0 1 0 0 0 0 0 0 1 1 1 0 1 1 1 0 0 0 0 0 1 0 1 1 0 1 0 1\n",
      " 0 0 1 0 1 0 1 1 0 1 0 1 1 1 0 1 0 0 1 0 1 1 0 1 1 1 0 0 1 0 0 0 0 0 0 0 1\n",
      " 1 1 0 0 1 1 0 1 0 0 0 0 0 1 0 1 0 1 0 0 0 1 0 0 1 0 1 1 1 1 0 0 0 1 1 0 0\n",
      " 0 0 0 0 1 0 0 0 1 0 0 1 0 1 0 0 1 1 0 0 0 0 1 1 1 1 1 1 1 1 0 1 1 0 1 0 1\n",
      " 0 1 1 1 1 1 0 0 1 0 1 1 0 0 1 0 1 1 1 0 1 1 0 1 0 1 1 0 0 0]\n"
     ]
    }
   ],
   "source": [
    "# Training\n",
    "for i in range(500):\n",
    "    pred, err = train(D[0], D[1])\n",
    "    if i % 50 == 0:\n",
    "        print('cost:', err)\n",
    "        print(\"accuracy:\", compute_accuracy(D[1], predict(D[0])))\n",
    "\n",
    "print(\"target values for D:\")\n",
    "print(D[1])\n",
    "print(\"prediction on D:\")\n",
    "print(predict(D[0]))"
   ]
  },
  {
   "cell_type": "markdown",
   "metadata": {},
   "source": [
    "## 正则化\n",
    "### 神经网络正则化：dropout regularization"
   ]
  },
  {
   "cell_type": "code",
   "execution_count": 121,
   "metadata": {
    "collapsed": false
   },
   "outputs": [],
   "source": [
    "from sklearn.datasets import load_boston\n",
    "def minmax_normalization(data):\n",
    "    xs_max = np.max(data,axis = 0)\n",
    "    xs_min = np.min(data,axis = 0)\n",
    "    xs = (1-0)*(data-xs_min)/(xs_max-xs_min)+0\n",
    "    return xs"
   ]
  },
  {
   "cell_type": "code",
   "execution_count": 131,
   "metadata": {
    "collapsed": false
   },
   "outputs": [],
   "source": [
    "np.random.seed(100)\n",
    "x_data = load_boston().data\n",
    "# minmax normalization, rescale the inputs\n",
    "x_data = minmax_normalization(x_data)\n",
    "y_data = load_boston().target[:, np.newaxis]"
   ]
  },
  {
   "cell_type": "code",
   "execution_count": 130,
   "metadata": {
    "collapsed": true
   },
   "outputs": [],
   "source": [
    "#cross validation.train test data split\n",
    "x_train, y_train = x_data[:400], y_data[:400]\n",
    "x_test, y_test = x_data[400:], y_data[400:]"
   ]
  },
  {
   "cell_type": "code",
   "execution_count": 124,
   "metadata": {
    "collapsed": true
   },
   "outputs": [],
   "source": [
    "x = T.dmatrix('x')\n",
    "y = T.dmatrix('y')"
   ]
  },
  {
   "cell_type": "code",
   "execution_count": 125,
   "metadata": {
    "collapsed": true
   },
   "outputs": [],
   "source": [
    "l1 = Layer(x,13,50,T.tanh)\n",
    "l2 = Layer(l1.outputs,50,1,None)"
   ]
  },
  {
   "cell_type": "code",
   "execution_count": 127,
   "metadata": {
    "collapsed": true
   },
   "outputs": [],
   "source": [
    "# the way to compute cost\n",
    "#cost = T.mean(T.square(l2.outputs-y))+0.1*((l1.W**2).sum()+(l2.W**2).sum())#l2 regularization\n",
    "cost = T.mean(T.square(l2.outputs-y))+0.1*(abs(l1.W).sum()+abs(l2.W).sum())#l1 regularization"
   ]
  },
  {
   "cell_type": "code",
   "execution_count": 139,
   "metadata": {
    "collapsed": true
   },
   "outputs": [],
   "source": [
    "gW1,gb1,gW2,gb2 = T.grad(cost,[l1.W,l1.b,l2.W,l2.b])"
   ]
  },
  {
   "cell_type": "code",
   "execution_count": 140,
   "metadata": {
    "collapsed": false
   },
   "outputs": [],
   "source": [
    "#apply gradient descent\n",
    "learning_rate = 0.01\n",
    "train = theano.function(inputs=[x,y],\n",
    "                        outputs=cost,\n",
    "                       updates = [(l1.W,l1.W-learning_rate*gW1),\n",
    "                                  (l1.b,l1.b-learning_rate*gb1),\n",
    "                                 (l2.W,l2.W-learning_rate*gW2),\n",
    "                                 (l2.b,l2.b-learning_rate*gb2)])"
   ]
  },
  {
   "cell_type": "code",
   "execution_count": 141,
   "metadata": {
    "collapsed": true
   },
   "outputs": [],
   "source": [
    "compute_cost = theano.function(inputs = [x,y],\n",
    "                              outputs = cost)"
   ]
  },
  {
   "cell_type": "code",
   "execution_count": null,
   "metadata": {
    "collapsed": true
   },
   "outputs": [],
   "source": [
    "train_err_list =[]\n",
    "test_err_list =[]\n",
    "learning_time = []\n",
    "for i in range(1000):\n",
    "    train(x_train,y_train)\n",
    "    if i % 50 == 0:\n",
    "        train_err_list.append(compute_cost(x_train,y_train))\n",
    "        test_err_list.append(compute_cost(x_test,y_test))\n",
    "        learning_time.append(i)\n",
    "\n",
    "plt.plot(learning_time,train_err_list,'r-')\n",
    "plt.plot(learning_time,test_err_list,'b--')\n",
    "plt.show()"
   ]
  },
  {
   "cell_type": "code",
   "execution_count": null,
   "metadata": {
    "collapsed": true
   },
   "outputs": [],
   "source": []
  },
  {
   "cell_type": "code",
   "execution_count": null,
   "metadata": {
    "collapsed": true
   },
   "outputs": [],
   "source": []
  },
  {
   "cell_type": "code",
   "execution_count": null,
   "metadata": {
    "collapsed": true
   },
   "outputs": [],
   "source": []
  },
  {
   "cell_type": "code",
   "execution_count": null,
   "metadata": {
    "collapsed": true
   },
   "outputs": [],
   "source": []
  },
  {
   "cell_type": "code",
   "execution_count": null,
   "metadata": {
    "collapsed": true
   },
   "outputs": [],
   "source": []
  }
 ],
 "metadata": {
  "anaconda-cloud": {},
  "kernelspec": {
   "display_name": "Python [default]",
   "language": "python",
   "name": "python3"
  },
  "language_info": {
   "codemirror_mode": {
    "name": "ipython",
    "version": 3
   },
   "file_extension": ".py",
   "mimetype": "text/x-python",
   "name": "python",
   "nbconvert_exporter": "python",
   "pygments_lexer": "ipython3",
   "version": "3.5.2"
  }
 },
 "nbformat": 4,
 "nbformat_minor": 1
}

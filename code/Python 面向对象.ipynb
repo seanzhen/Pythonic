{
 "cells": [
  {
   "cell_type": "markdown",
   "metadata": {},
   "source": [
    "# 面向对象\n",
    "    类 对象\n",
    "### 类\n",
    "    属性\n",
    "    功能，封装\n",
    "    继承（单继承、多继承）\n",
    "    多态"
   ]
  },
  {
   "cell_type": "code",
   "execution_count": 1,
   "metadata": {
    "collapsed": false
   },
   "outputs": [
    {
     "data": {
      "text/plain": [
       "'\\nclass ClaassName:\\n    statement1\\n    ...\\n    statementN\\n'"
      ]
     },
     "execution_count": 1,
     "metadata": {},
     "output_type": "execute_result"
    }
   ],
   "source": [
    "'''\n",
    "class ClaassName:\n",
    "    statement1\n",
    "    ...\n",
    "    statementN\n",
    "'''"
   ]
  },
  {
   "cell_type": "code",
   "execution_count": 4,
   "metadata": {
    "collapsed": false
   },
   "outputs": [
    {
     "data": {
      "text/plain": [
       "'\\ndef\\n'"
      ]
     },
     "execution_count": 4,
     "metadata": {},
     "output_type": "execute_result"
    }
   ],
   "source": [
    "'''\n",
    "def __init__(self)\n",
    "'''"
   ]
  },
  {
   "cell_type": "markdown",
   "metadata": {},
   "source": [
    "### 两个内键函数\n",
    "       dir()\n",
    "       type()"
   ]
  },
  {
   "cell_type": "code",
   "execution_count": 1,
   "metadata": {
    "collapsed": true
   },
   "outputs": [],
   "source": [
    "class NewStyle(object):\n",
    "    def __init__(self,name,description):\n",
    "        self.name = name\n",
    "        self.description = description\n"
   ]
  },
  {
   "cell_type": "code",
   "execution_count": 2,
   "metadata": {
    "collapsed": false,
    "scrolled": true
   },
   "outputs": [
    {
     "name": "stdout",
     "output_type": "stream",
     "text": [
      "<class '__main__.NewStyle'>\n",
      "['__class__', '__delattr__', '__dict__', '__dir__', '__doc__', '__eq__', '__format__', '__ge__', '__getattribute__', '__gt__', '__hash__', '__init__', '__le__', '__lt__', '__module__', '__ne__', '__new__', '__reduce__', '__reduce_ex__', '__repr__', '__setattr__', '__sizeof__', '__str__', '__subclasshook__', '__weakref__', 'description', 'name']\n"
     ]
    }
   ],
   "source": [
    "if __name__ == '__main__':\n",
    "    new = NewStyle('new','New style class')\n",
    "    print(type(new))\n",
    "    print(dir(new))"
   ]
  },
  {
   "cell_type": "markdown",
   "metadata": {},
   "source": [
    "## 定义类的属性\n",
    "    直接在类里定义\n",
    "    在构造函数里定义\n",
    "    Python没有访问控制，没提供私有属性的功能"
   ]
  },
  {
   "cell_type": "code",
   "execution_count": 9,
   "metadata": {
    "collapsed": false
   },
   "outputs": [
    {
     "data": {
      "text/plain": [
       "\"\\nclass Programer(object):\\n    sex = 'male'\\n\""
      ]
     },
     "execution_count": 9,
     "metadata": {},
     "output_type": "execute_result"
    }
   ],
   "source": [
    "'''\n",
    "class Programer(object):\n",
    "    sex = 'male'\n",
    "'''"
   ]
  },
  {
   "cell_type": "code",
   "execution_count": 10,
   "metadata": {
    "collapsed": false
   },
   "outputs": [
    {
     "data": {
      "text/plain": [
       "'\\nclass NewStyle(object):\\n    def __init__(self,name,description):\\n        self.name = name\\n        self.description = description\\n'"
      ]
     },
     "execution_count": 10,
     "metadata": {},
     "output_type": "execute_result"
    }
   ],
   "source": [
    "\"\"\"\n",
    "class NewStyle(object):\n",
    "    def __init__(self,name,description):\n",
    "        self.name = name\n",
    "        self.description = description\n",
    "\"\"\"\n"
   ]
  },
  {
   "cell_type": "code",
   "execution_count": 9,
   "metadata": {
    "collapsed": false
   },
   "outputs": [],
   "source": [
    "class Programmer(object):\n",
    "    hobby = 'Playing computer'\n",
    "    \n",
    "    def __init__(self,name,age,weight):\n",
    "        self.name = name\n",
    "        self.age = age\n",
    "        self.__weight = weight\n",
    "        \n",
    "    def get_weight(self):\n",
    "        return self.__weight"
   ]
  },
  {
   "cell_type": "code",
   "execution_count": 10,
   "metadata": {
    "collapsed": false
   },
   "outputs": [
    {
     "name": "stdout",
     "output_type": "stream",
     "text": [
      "['_Programmer__weight', '__class__', '__delattr__', '__dict__', '__dir__', '__doc__', '__eq__', '__format__', '__ge__', '__getattribute__', '__gt__', '__hash__', '__init__', '__le__', '__lt__', '__module__', '__ne__', '__new__', '__reduce__', '__reduce_ex__', '__repr__', '__setattr__', '__sizeof__', '__str__', '__subclasshook__', '__weakref__', 'age', 'get_weight', 'hobby', 'name']\n",
      "{'_Programmer__weight': 65, 'name': 'Sean', 'age': 20}\n",
      "65\n",
      "65\n",
      "Sean\n",
      "20\n",
      "Playing computer\n"
     ]
    }
   ],
   "source": [
    "if __name__ == '__main__':\n",
    "    programmer = Programmer('Sean',20,65)\n",
    "    print(dir(programmer))\n",
    "    print(programmer.__dict__)\n",
    "    print(programmer.get_weight())\n",
    "    print(programmer._Programmer__weight)\n",
    "    print(programmer.name)\n",
    "    print(programmer.age)\n",
    "    print(programmer.hobby)"
   ]
  },
  {
   "cell_type": "markdown",
   "metadata": {},
   "source": [
    "## 定义类的方法\n",
    "    函数和方法，函数是直接用函数名词调用的，方法是类的一部分"
   ]
  },
  {
   "cell_type": "markdown",
   "metadata": {},
   "source": [
    "#### 类的方法也是类的属性"
   ]
  },
  {
   "cell_type": "code",
   "execution_count": 22,
   "metadata": {
    "collapsed": true
   },
   "outputs": [],
   "source": [
    "class Test(object):\n",
    "    def test(self):\n",
    "        pass"
   ]
  },
  {
   "cell_type": "code",
   "execution_count": 23,
   "metadata": {
    "collapsed": false
   },
   "outputs": [
    {
     "name": "stdout",
     "output_type": "stream",
     "text": [
      "<bound method Test.test of <__main__.Test object at 0x050F9630>>\n",
      "123\n"
     ]
    }
   ],
   "source": [
    "a = Test()\n",
    "print(a.test)\n",
    "a.test = '123'\n",
    "print(a.test)"
   ]
  },
  {
   "cell_type": "markdown",
   "metadata": {},
   "source": [
    "## 常用的定义类的方法"
   ]
  },
  {
   "cell_type": "code",
   "execution_count": 24,
   "metadata": {
    "collapsed": false
   },
   "outputs": [
    {
     "data": {
      "text/plain": [
       "'\\nclass Example(object):\\n    def add(self):\\n        pass\\n    def _minus(self):\\n        pass\\n'"
      ]
     },
     "execution_count": 24,
     "metadata": {},
     "output_type": "execute_result"
    }
   ],
   "source": [
    "'''\n",
    "class Example(object):\n",
    "    def add(self):\n",
    "        pass\n",
    "    def _minus(self):\n",
    "        pass\n",
    "'''"
   ]
  },
  {
   "cell_type": "markdown",
   "metadata": {},
   "source": [
    "### @classmethod——调用的时候用类名，而不是某个对象\n",
    "### @property——像访问属性一样调用方法"
   ]
  },
  {
   "cell_type": "code",
   "execution_count": 8,
   "metadata": {
    "collapsed": true
   },
   "outputs": [],
   "source": [
    "class Programmer(object):\n",
    "    hobby = 'Playing computer'\n",
    "    \n",
    "    def __init__(self,name,age,weight):\n",
    "        self.name = name\n",
    "        self.age = age\n",
    "        self.__weight = weight\n",
    "        \n",
    "\n",
    "    @classmethod\n",
    "    def get_hoobby(cls):\n",
    "        return cls.hobby\n",
    "    \n",
    "    @property\n",
    "    def get_weight(self):\n",
    "        return self.__weight\n",
    "    \n",
    "    def self_intro(self):\n",
    "        print('My name is %s \\n I am %s years old' % (self.name,self.age))"
   ]
  },
  {
   "cell_type": "code",
   "execution_count": 29,
   "metadata": {
    "collapsed": false
   },
   "outputs": [
    {
     "name": "stdout",
     "output_type": "stream",
     "text": [
      "['_Programmer__weight', '__class__', '__delattr__', '__dict__', '__dir__', '__doc__', '__eq__', '__format__', '__ge__', '__getattribute__', '__gt__', '__hash__', '__init__', '__le__', '__lt__', '__module__', '__ne__', '__new__', '__reduce__', '__reduce_ex__', '__repr__', '__setattr__', '__sizeof__', '__str__', '__subclasshook__', '__weakref__', 'age', 'get_hoobby', 'get_weight', 'hobby', 'name', 'self_intro']\n",
      "65\n",
      "<bound method Programmer.get_hoobby of <class '__main__.Programmer'>>\n",
      "My name is Sean \n",
      " I am 20 years old\n"
     ]
    }
   ],
   "source": [
    "if __name__ == '__main__':\n",
    "    programmer = Programmer('Sean',20,65)\n",
    "    print(dir(programmer))\n",
    "    print(programmer.get_weight)\n",
    "    print(Programmer.get_hoobby)\n",
    "    programmer.self_intro()"
   ]
  },
  {
   "cell_type": "markdown",
   "metadata": {},
   "source": [
    "## 类的继承\n"
   ]
  },
  {
   "cell_type": "code",
   "execution_count": 31,
   "metadata": {
    "collapsed": false
   },
   "outputs": [
    {
     "data": {
      "text/plain": [
       "'\\n单继承\\nclass DerivedClassName(BaseClassName):\\n    <statement-1>\\n    ...\\n    <statement_m>\\n    \\n    \\n多继承(少见)\\nclass DerivedClassName(Base1，Base2,Base3):\\n    <statement-1>\\n    ...\\n    <statement_m>\\n'"
      ]
     },
     "execution_count": 31,
     "metadata": {},
     "output_type": "execute_result"
    }
   ],
   "source": [
    "'''\n",
    "单继承\n",
    "class DerivedClassName(BaseClassName):\n",
    "    <statement-1>\n",
    "    ...\n",
    "    <statement_m>\n",
    "    \n",
    "    \n",
    "多继承(少见)\n",
    "class DerivedClassName(Base1，Base2,Base3):\n",
    "    <statement-1>\n",
    "    ...\n",
    "    <statement_m>\n",
    "'''"
   ]
  },
  {
   "cell_type": "markdown",
   "metadata": {},
   "source": [
    "### 继承的子类\n",
    "    会继承父类的属性和方法\n",
    "    也可以自己定义，覆盖父类的属性和方法\n",
    "    用super（）调用父类的方法"
   ]
  },
  {
   "cell_type": "markdown",
   "metadata": {},
   "source": [
    "### 子类的类型判断\n",
    "    isinstance\n",
    "    issubclass"
   ]
  },
  {
   "cell_type": "code",
   "execution_count": 32,
   "metadata": {
    "collapsed": true
   },
   "outputs": [],
   "source": [
    "class BackendProgrammer(Programmer):\n",
    "    def __init__(self,name,age,weight,language):\n",
    "        super(BackendProgrammer,self).__init__(name,age,weight)\n",
    "        self.language = language"
   ]
  },
  {
   "cell_type": "code",
   "execution_count": 33,
   "metadata": {
    "collapsed": false
   },
   "outputs": [
    {
     "name": "stdout",
     "output_type": "stream",
     "text": [
      "['_Programmer__weight', '__class__', '__delattr__', '__dict__', '__dir__', '__doc__', '__eq__', '__format__', '__ge__', '__getattribute__', '__gt__', '__hash__', '__init__', '__le__', '__lt__', '__module__', '__ne__', '__new__', '__reduce__', '__reduce_ex__', '__repr__', '__setattr__', '__sizeof__', '__str__', '__subclasshook__', '__weakref__', 'age', 'get_hoobby', 'get_weight', 'hobby', 'language', 'name', 'self_intro']\n",
      "{'age': 20, '_Programmer__weight': 65, 'name': 'Sean', 'language': 'chinese'}\n",
      "<class '__main__.BackendProgrammer'>\n",
      "True\n"
     ]
    }
   ],
   "source": [
    "if __name__ == '__main__':\n",
    "    programmer = BackendProgrammer('Sean',20,65,'chinese')\n",
    "    print(dir(programmer))\n",
    "    print(programmer.__dict__)\n",
    "    print(type(programmer))\n",
    "    print(isinstance(programmer,Programmer))"
   ]
  },
  {
   "cell_type": "markdown",
   "metadata": {},
   "source": [
    "## 类的多态\n",
    "    两大要素：继承，方法重写"
   ]
  },
  {
   "cell_type": "code",
   "execution_count": 34,
   "metadata": {
    "collapsed": true
   },
   "outputs": [],
   "source": [
    "class BackendProgrammer(Programmer):\n",
    "    def __init__(self,name,age,weight,language):\n",
    "        super(BackendProgrammer,self).__init__(name,age,weight)\n",
    "        self.language = language\n",
    "    def self_intro(self):\n",
    "        print(\"重写了\")"
   ]
  },
  {
   "cell_type": "code",
   "execution_count": null,
   "metadata": {
    "collapsed": true
   },
   "outputs": [],
   "source": [
    "def intro(programmer):\n",
    "    if isinstance(programmer,Programmer)\n",
    "        programmer.self_intro()\n",
    "        \n",
    "if __name__ == '__main__':\n",
    "    programmer = Programmer('Sean',20,65)\n",
    "    backend = BackendProgrammer('Tim',20,70,'Python')\n",
    "    intro(programmer)\n",
    "    "
   ]
  },
  {
   "cell_type": "markdown",
   "metadata": {
    "collapsed": true
   },
   "source": [
    "## Python Magic Method\n",
    "    以极大的自由度定义我们的类\n",
    "    如：def ___init(self)"
   ]
  },
  {
   "cell_type": "markdown",
   "metadata": {},
   "source": [
    "### 类的初始化\n",
    "    创建类的对象——def __new__(cls)\n",
    "    初始化对象—— def __init__(self)\n",
    "\n",
    "### 回收对象\n",
    "    __del__()（比较少用到）\n",
    "    "
   ]
  },
  {
   "cell_type": "code",
   "execution_count": 21,
   "metadata": {
    "collapsed": true
   },
   "outputs": [],
   "source": [
    "class Programmer(object):\n",
    "    def __new__(cls,*args,**kwargs):\n",
    "        print('call__new__method')\n",
    "        print(args)\n",
    "        return super(Programmer,cls).__new__(cls)\n",
    "    \n",
    "    def __init__(self,name,age):\n",
    "        print('call__init__method')\n",
    "        self.name = name\n",
    "        self.age = age"
   ]
  },
  {
   "cell_type": "code",
   "execution_count": 22,
   "metadata": {
    "collapsed": false
   },
   "outputs": [
    {
     "name": "stdout",
     "output_type": "stream",
     "text": [
      "call__new__method\n",
      "('Sean', 20)\n",
      "call__init__method\n",
      "{'name': 'Sean', 'age': 20}\n"
     ]
    }
   ],
   "source": [
    "if __name__ == '__main__':\n",
    "    programmer =Programmer('Sean',20)\n",
    "    print(programmer.__dict__)"
   ]
  },
  {
   "cell_type": "markdown",
   "metadata": {},
   "source": [
    "## 类与运算符\n",
    "    比较运算符（‘__cmq’,‘__eq__’,'__lt__','__gt__'）\n",
    "    数学运算符\n",
    "    逻辑运算符（‘__or__’,‘__and___’）"
   ]
  },
  {
   "cell_type": "code",
   "execution_count": 28,
   "metadata": {
    "collapsed": false
   },
   "outputs": [],
   "source": [
    "class Programmer(object):\n",
    "    def __init__(self,name,age):\n",
    "        self.name = name\n",
    "        if isinstance(age,int):\n",
    "            self.age = age\n",
    "        else:\n",
    "            raise Exception('age muat be int')\n",
    "    def __eq__(self,other):#判断两个对象是否相等\n",
    "        if isinstance(other,Programmer):\n",
    "            if self.age == other.age:\n",
    "                return True\n",
    "            else:\n",
    "                return False\n",
    "        else:\n",
    "            raise Exception('The type of objrct must be Programmer')\n",
    "            \n",
    "    def __add__(self,other):#加法运算\n",
    "        if isinstance(other,Programmer):\n",
    "            return self.age + other.age,self.name+' '+other.name\n",
    "        else:\n",
    "            raise Exception('the type of object must be Programmer')"
   ]
  },
  {
   "cell_type": "code",
   "execution_count": 29,
   "metadata": {
    "collapsed": false,
    "scrolled": true
   },
   "outputs": [
    {
     "name": "stdout",
     "output_type": "stream",
     "text": [
      "False\n",
      "(55, 'Tim Sean')\n"
     ]
    }
   ],
   "source": [
    "if __name__ == '__main__':\n",
    "    p1 = Programmer('Tim',25)\n",
    "    p2 = Programmer('Sean',30)\n",
    "    print(p1 == p2)\n",
    "    print(p1+p2)"
   ]
  },
  {
   "cell_type": "markdown",
   "metadata": {},
   "source": [
    "## 类的展现\n",
    "    转换为字符串\n",
    "    展现对象属性"
   ]
  },
  {
   "cell_type": "code",
   "execution_count": 36,
   "metadata": {
    "collapsed": true
   },
   "outputs": [],
   "source": [
    "class Programmer(object):\n",
    "    def __init__(self,name,age):\n",
    "        self.name = name\n",
    "        if isinstance(age,int):\n",
    "            self.age = age\n",
    "        else:\n",
    "            raise Exception('age muat be int')\n",
    "    def __str__(self):\n",
    "        return '%s is %s years old' % (self.name,self.age)\n",
    "    def __dir__(self):\n",
    "        return self.__dict__.keys()"
   ]
  },
  {
   "cell_type": "code",
   "execution_count": 37,
   "metadata": {
    "collapsed": false
   },
   "outputs": [
    {
     "name": "stdout",
     "output_type": "stream",
     "text": [
      "Tim is 25 years old\n",
      "['age', 'name']\n"
     ]
    }
   ],
   "source": [
    "if __name__ == '__main__':\n",
    "    p1 = Programmer('Tim',25)\n",
    "    print(p1)\n",
    "    print(dir(p1))"
   ]
  },
  {
   "cell_type": "markdown",
   "metadata": {},
   "source": [
    "## 类的属性访问\n",
    "    设置对象属性（‘__setattr__’）\n",
    "    查询对象属性（‘__getattr__’,‘__getattribute__’）\n",
    "    删除对象属性（‘__delattr__’）"
   ]
  },
  {
   "cell_type": "code",
   "execution_count": 48,
   "metadata": {
    "collapsed": true
   },
   "outputs": [],
   "source": [
    "class Programmer(object):\n",
    "    def __init__(self,name,age):\n",
    "        self.name = name\n",
    "        self.age = age\n",
    "    def __setattr__(self,name,value):\n",
    "        self.__dict__[name] = value\n",
    "    def __getattribute__(self,name):\n",
    "        return super(Programmer,self).__getattribute__(name)"
   ]
  },
  {
   "cell_type": "code",
   "execution_count": 49,
   "metadata": {
    "collapsed": false
   },
   "outputs": [
    {
     "name": "stdout",
     "output_type": "stream",
     "text": [
      "Tim\n"
     ]
    }
   ],
   "source": [
    "if __name__ == '__main__':\n",
    "    p1 = Programmer('Tim',25)\n",
    "    print(p1.name)"
   ]
  },
  {
   "cell_type": "code",
   "execution_count": null,
   "metadata": {
    "collapsed": true
   },
   "outputs": [],
   "source": []
  }
 ],
 "metadata": {
  "anaconda-cloud": {},
  "kernelspec": {
   "display_name": "Python [default]",
   "language": "python",
   "name": "python3"
  },
  "language_info": {
   "codemirror_mode": {
    "name": "ipython",
    "version": 3
   },
   "file_extension": ".py",
   "mimetype": "text/x-python",
   "name": "python",
   "nbconvert_exporter": "python",
   "pygments_lexer": "ipython3",
   "version": "3.5.2"
  }
 },
 "nbformat": 4,
 "nbformat_minor": 1
}

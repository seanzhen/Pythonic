{
 "cells": [
  {
   "cell_type": "markdown",
   "metadata": {},
   "source": [
    "#### map（）函数是python内置的高阶函数，它接收一个函数f和一个list，并通过把函数f作用在list的每个元素上，得到一个新的list并返回\n",
    "注意：map（）不改变原有的list，而是返回一个新的list。"
   ]
  },
  {
   "cell_type": "code",
   "execution_count": 1,
   "metadata": {
    "collapsed": false
   },
   "outputs": [
    {
     "name": "stdout",
     "output_type": "stream",
     "text": [
      "['Adam', 'Lisa', 'Bart']\n"
     ]
    }
   ],
   "source": [
    "def format_name(s):\n",
    "    return s[0].upper()+s[1:].lower()\n",
    "\n",
    "print map(format_name, ['adam', 'LISA', 'barT'])"
   ]
  },
  {
   "cell_type": "markdown",
   "metadata": {},
   "source": [
    "### reduce（）是python内置的高阶函数，接受参数和map(）类似但行为和map()不同，reduce()对list的每个元素反复调用函数f，并返回最终值"
   ]
  },
  {
   "cell_type": "code",
   "execution_count": 3,
   "metadata": {
    "collapsed": false
   },
   "outputs": [
    {
     "name": "stdout",
     "output_type": "stream",
     "text": [
      "25\n"
     ]
    }
   ],
   "source": [
    "def f(x, y):\n",
    "    return x + y\n",
    "print reduce(f,[1,3,5,7,9])"
   ]
  },
  {
   "cell_type": "markdown",
   "metadata": {},
   "source": [
    "先计算头两个元素：f(1, 3)，结果为4；\n",
    "再把结果和第3个元素计算：f(4, 5)，结果为9；\n",
    "再把结果和第4个元素计算：f(9, 7)，结果为16；\n",
    "再把结果和第5个元素计算：f(16, 9)，结果为25；\n",
    "由于没有更多的元素了，计算结束，返回结果25。"
   ]
  },
  {
   "cell_type": "code",
   "execution_count": 4,
   "metadata": {
    "collapsed": false
   },
   "outputs": [
    {
     "name": "stdout",
     "output_type": "stream",
     "text": [
      "3360\n"
     ]
    }
   ],
   "source": [
    "def prod(x, y):\n",
    "    return x*y\n",
    "\n",
    "print reduce(prod, [2, 4, 5, 7, 12])"
   ]
  },
  {
   "cell_type": "markdown",
   "metadata": {},
   "source": [
    "### filter（）函数是Python内置的另一个有用的高阶函数，对每个元素进行判断，返回True或False，根据判断结果自动过滤掉不符合条件的元素，返回条件元素组成的新的list"
   ]
  },
  {
   "cell_type": "markdown",
   "metadata": {},
   "source": [
    "请利用filter()过滤出1~100中平方根是整数的数，即结果应该是：\n",
    "\n",
    "[1, 4, 9, 16, 25, 36, 49, 64, 81, 100]"
   ]
  },
  {
   "cell_type": "code",
   "execution_count": 5,
   "metadata": {
    "collapsed": false
   },
   "outputs": [
    {
     "name": "stdout",
     "output_type": "stream",
     "text": [
      "[1, 4, 9, 16, 25, 36, 49, 64, 81, 100]\n"
     ]
    }
   ],
   "source": [
    "import math\n",
    "\n",
    "def is_sqr(x):\n",
    "    return int(math.sqrt(x))**2==x\n",
    "\n",
    "print filter(is_sqr, range(1, 101))"
   ]
  },
  {
   "cell_type": "markdown",
   "metadata": {},
   "source": [
    "s.strip(rm) 删除 s 字符串中开头、结尾处的 rm 序列的字符。\n",
    "当rm为空时，默认删除空白符（包括'\\n', '\\r', '\\t', ' ')，如下："
   ]
  },
  {
   "cell_type": "code",
   "execution_count": 6,
   "metadata": {
    "collapsed": false
   },
   "outputs": [
    {
     "data": {
      "text/plain": [
       "'123'"
      ]
     },
     "execution_count": 6,
     "metadata": {},
     "output_type": "execute_result"
    }
   ],
   "source": [
    "a = '     123'\n",
    "a.strip()"
   ]
  },
  {
   "cell_type": "code",
   "execution_count": 7,
   "metadata": {
    "collapsed": false
   },
   "outputs": [
    {
     "data": {
      "text/plain": [
       "'123'"
      ]
     },
     "execution_count": 7,
     "metadata": {},
     "output_type": "execute_result"
    }
   ],
   "source": [
    "a='\\t\\t123\\r\\n'\n",
    "a.strip()"
   ]
  },
  {
   "cell_type": "markdown",
   "metadata": {},
   "source": [
    "对于比较函数cmp_ignore_case(s1, s2)，要忽略大小写比较，就是先把两个字符串都变成大写（或者都变成小写），再比较。"
   ]
  },
  {
   "cell_type": "code",
   "execution_count": 15,
   "metadata": {
    "collapsed": false
   },
   "outputs": [
    {
     "name": "stdout",
     "output_type": "stream",
     "text": [
      "['about', 'bob', 'Credit', 'Zoo']\n"
     ]
    }
   ],
   "source": [
    "def cmp_ignore_case(s1, s2):\n",
    "    u1 = s1.upper()\n",
    "    u2 = s2.upper()\n",
    "    if u1 < u2:\n",
    "        return -1\n",
    "    if u1 > u2:\n",
    "        return 1\n",
    "    return 0\n",
    "print sorted(['bob', 'about', 'Zoo', 'Credit'], cmp_ignore_case)"
   ]
  },
  {
   "cell_type": "markdown",
   "metadata": {},
   "source": [
    "Python的函数不但可以返回int、str、list、dict等数据类型，还可以返回函数！"
   ]
  },
  {
   "cell_type": "code",
   "execution_count": 20,
   "metadata": {
    "collapsed": false
   },
   "outputs": [
    {
     "name": "stdout",
     "output_type": "stream",
     "text": [
      "24\n"
     ]
    }
   ],
   "source": [
    "def calc_prod(lst):\n",
    "    def a():\n",
    "        return reduce((lambda x,y: x*y),lst)\n",
    "    return a\n",
    "f = calc_prod([1, 2, 3, 4])\n",
    "print f()"
   ]
  },
  {
   "cell_type": "markdown",
   "metadata": {
    "collapsed": true
   },
   "source": [
    "### 闭包\n",
    "像这种内层函数引用了外层函数的变量（参数也算变量），然后返回内层函数的情况，称为闭包"
   ]
  },
  {
   "cell_type": "code",
   "execution_count": 3,
   "metadata": {
    "collapsed": false
   },
   "outputs": [],
   "source": [
    "def calc_sum(lst):\n",
    "    def lazy_sum():\n",
    "        return sum(lst)\n",
    "    return lazy_sum"
   ]
  },
  {
   "cell_type": "markdown",
   "metadata": {},
   "source": [
    "闭包的特点是返回的函数还引用了外层函数的局部变量，所以，要正确使用闭包，就要确保引用的局部变狼在函数返回后不能变。"
   ]
  },
  {
   "cell_type": "code",
   "execution_count": 24,
   "metadata": {
    "collapsed": false
   },
   "outputs": [
    {
     "name": "stdout",
     "output_type": "stream",
     "text": [
      "9 9 9\n"
     ]
    }
   ],
   "source": [
    "# 希望以此返回3个函数，分别计算1*1,2*2,3*3\n",
    "def count():\n",
    "    fs=[]\n",
    "    for i in range(1,4):\n",
    "        def f():\n",
    "            return i*i\n",
    "        fs.append(f)\n",
    "    return fs\n",
    "f1,f2,f3 = count()\n",
    "print f1(), f2(), f3()"
   ]
  },
  {
   "cell_type": "markdown",
   "metadata": {},
   "source": [
    "s.append(f),只是将每一个f()的<font color=red face=“黑体”>引用</font>保存进了list，并没有进行对于i的计算，所以导致最后在运行了f（1）之后，i已经变为了3，所以会一样结果都为9.只要将这里改为fs.append(f())即可，这样就在这一步的时候已经进行了i*i的运算，将结果保存了，通过这一题可以注意到在python这门语言之中，f与f（）的大区别。"
   ]
  },
  {
   "cell_type": "code",
   "execution_count": 16,
   "metadata": {
    "collapsed": false
   },
   "outputs": [
    {
     "name": "stdout",
     "output_type": "stream",
     "text": [
      "1 4 9\n"
     ]
    }
   ],
   "source": [
    "def count():\n",
    "    fs = []\n",
    "    for i in range(1, 4):\n",
    "        def f(j):\n",
    "            def g():\n",
    "                return j*j\n",
    "            return g\n",
    "        r=f(i)    \n",
    "        fs.append(r)\n",
    "    return fs\n",
    "\n",
    "f1, f2, f3 = count()\n",
    "print f1(), f2(), f3()"
   ]
  },
  {
   "cell_type": "code",
   "execution_count": 22,
   "metadata": {
    "collapsed": false
   },
   "outputs": [
    {
     "name": "stdout",
     "output_type": "stream",
     "text": [
      "1 4 9\n"
     ]
    }
   ],
   "source": [
    "# 希望以此返回3个函数，分别计算1*1,2*2,3*3\n",
    "def count():\n",
    "    fs=[]\n",
    "    for i in range(1,4):\n",
    "        def f():\n",
    "            return i*i\n",
    "        fs.append(f())\n",
    "    return fs\n",
    "f1,f2,f3 = count()\n",
    "print f1, f2, f3"
   ]
  },
  {
   "cell_type": "code",
   "execution_count": 25,
   "metadata": {
    "collapsed": false
   },
   "outputs": [
    {
     "name": "stdout",
     "output_type": "stream",
     "text": [
      "1 4 9\n"
     ]
    }
   ],
   "source": [
    "def count():\n",
    "    fs = []\n",
    "    for i in range(1, 4):\n",
    "        def f(j):\n",
    "            return j*j\n",
    "        r=f(i)    \n",
    "        fs.append(r)\n",
    "    return fs\n",
    "\n",
    "f1, f2, f3 = count()\n",
    "print f1, f2, f3"
   ]
  },
  {
   "cell_type": "markdown",
   "metadata": {},
   "source": [
    "### 匿名函数"
   ]
  },
  {
   "cell_type": "code",
   "execution_count": 26,
   "metadata": {
    "collapsed": false
   },
   "outputs": [
    {
     "data": {
      "text/plain": [
       "[1, 4, 9, 16, 25, 36, 49, 64, 81]"
      ]
     },
     "execution_count": 26,
     "metadata": {},
     "output_type": "execute_result"
    }
   ],
   "source": [
    "map(lambda x:x*x,[1,2,3,4,5,6,7,8,9])"
   ]
  },
  {
   "cell_type": "markdown",
   "metadata": {},
   "source": [
    "通过对比可以看出，匿名函数<font color=red face=“黑体”>lambda x:x*x</font> 实际上就是："
   ]
  },
  {
   "cell_type": "code",
   "execution_count": 27,
   "metadata": {
    "collapsed": true
   },
   "outputs": [],
   "source": [
    "def f(x):\n",
    "    return x*x"
   ]
  },
  {
   "cell_type": "markdown",
   "metadata": {},
   "source": [
    "匿名函数有个限制，就是只能有一个表达式，不写return,返回值就是该表达式的效果"
   ]
  },
  {
   "cell_type": "code",
   "execution_count": 29,
   "metadata": {
    "collapsed": false
   },
   "outputs": [
    {
     "data": {
      "text/plain": [
       "[9, 5, 3, 1, 0]"
      ]
     },
     "execution_count": 29,
     "metadata": {},
     "output_type": "execute_result"
    }
   ],
   "source": [
    "sorted([1,3,9,5,0],lambda x,y:-cmp(x,y))"
   ]
  },
  {
   "cell_type": "code",
   "execution_count": 32,
   "metadata": {
    "collapsed": false
   },
   "outputs": [
    {
     "name": "stdout",
     "output_type": "stream",
     "text": [
      "1\n",
      "1\n"
     ]
    }
   ],
   "source": [
    "myabs = lambda s:-s if s<0 else s\n",
    "print(myabs(1))\n",
    "print(myabs(-1))"
   ]
  },
  {
   "cell_type": "code",
   "execution_count": 38,
   "metadata": {
    "collapsed": false
   },
   "outputs": [
    {
     "name": "stdout",
     "output_type": "stream",
     "text": [
      "['test', 'str', 'END']\n"
     ]
    }
   ],
   "source": [
    "def is_not_empty(s):\n",
    "    return s and len(s.strip()) > 0\n",
    "\n",
    "print filter(is_not_empty, ['test', None, '', 'str', '  ', 'END'])"
   ]
  },
  {
   "cell_type": "code",
   "execution_count": 41,
   "metadata": {
    "collapsed": false
   },
   "outputs": [
    {
     "name": "stdout",
     "output_type": "stream",
     "text": [
      "['test', 'str', 'END']\n"
     ]
    }
   ],
   "source": [
    "print filter(lambda s: s and len(s.strip())>0, ['test', None, '', 'str', '  ', 'END'])"
   ]
  },
  {
   "cell_type": "markdown",
   "metadata": {},
   "source": [
    "### 装饰器\n",
    "Python内置的@语法就是为了简化装饰器调用的"
   ]
  },
  {
   "cell_type": "code",
   "execution_count": 48,
   "metadata": {
    "collapsed": true
   },
   "outputs": [],
   "source": [
    "#考察一个@log的定义\n",
    "def log(f):\n",
    "    def fn(x):\n",
    "        print 'call'+f.__name__ +'()...'\n",
    "        \n",
    "    return fn"
   ]
  },
  {
   "cell_type": "code",
   "execution_count": 51,
   "metadata": {
    "collapsed": false
   },
   "outputs": [
    {
     "name": "stdout",
     "output_type": "stream",
     "text": [
      "callfactorial()...\n",
      "None\n"
     ]
    }
   ],
   "source": [
    "@log\n",
    "def factorial(n):\n",
    "    return reduce(lambda x,y:x*y,range(1,n+1))\n",
    "print factorial(10)"
   ]
  },
  {
   "cell_type": "markdown",
   "metadata": {},
   "source": [
    "要让 @log 自适应任何参数定义的函数，可以利用Python的 *args 和 **kw，保证任意个数的参数总是能正常调用："
   ]
  },
  {
   "cell_type": "code",
   "execution_count": 53,
   "metadata": {
    "collapsed": true
   },
   "outputs": [],
   "source": [
    "def log(f):\n",
    "    def fn(*args,**kw):\n",
    "        print 'call'+f.__name__ +'()...'\n",
    "        return f(*args,**kw)\n",
    "    return fn"
   ]
  },
  {
   "cell_type": "markdown",
   "metadata": {},
   "source": [
    "*args和**kw这两个是python中的可变参数。*args表示任何多个无名参数，它是一个tuple；**kwargs表示关键字参数，它是一个dict。并且同时使用*args和**kwargs时，必须*args参数列要在**kwargs前"
   ]
  },
  {
   "cell_type": "code",
   "execution_count": 54,
   "metadata": {
    "collapsed": false
   },
   "outputs": [
    {
     "name": "stdout",
     "output_type": "stream",
     "text": [
      "calladd()...\n",
      "3\n"
     ]
    }
   ],
   "source": [
    "@log\n",
    "def add(x,y):\n",
    "    return x+y\n",
    "print(add(1,2))"
   ]
  },
  {
   "cell_type": "code",
   "execution_count": 62,
   "metadata": {
    "collapsed": false
   },
   "outputs": [
    {
     "name": "stdout",
     "output_type": "stream",
     "text": [
      "Mon Mar 27 15:27:20 2017\n",
      "3628800\n"
     ]
    }
   ],
   "source": [
    "import time\n",
    "def performance(f):\n",
    "    def fn(*args,**kw):\n",
    "        print  time.ctime()\n",
    "        return f(*args,**kw)\n",
    "    return fn\n",
    "@performance\n",
    "def factorial(n):\n",
    "    return reduce(lambda x,y: x*y, range(1, n+1))\n",
    "\n",
    "print factorial(10)"
   ]
  },
  {
   "cell_type": "code",
   "execution_count": 59,
   "metadata": {
    "collapsed": false
   },
   "outputs": [
    {
     "data": {
      "text/plain": [
       "'Mon Mar 27 15:26:28 2017'"
      ]
     },
     "execution_count": 59,
     "metadata": {},
     "output_type": "execute_result"
    }
   ],
   "source": [
    "import time\n",
    "time.ctime()"
   ]
  },
  {
   "cell_type": "markdown",
   "metadata": {},
   "source": [
    "Python中编写带参数装饰器"
   ]
  },
  {
   "cell_type": "code",
   "execution_count": 66,
   "metadata": {
    "collapsed": false
   },
   "outputs": [],
   "source": [
    "def log(prefix):\n",
    "    def log_decorator(f):\n",
    "        def wrapper(*args,**kw):\n",
    "            print '[%s] %s()...' % (prefix, f.__name__)\n",
    "            return f(*args,**kw)\n",
    "        return wrapper\n",
    "    return log_decorator"
   ]
  },
  {
   "cell_type": "code",
   "execution_count": 67,
   "metadata": {
    "collapsed": false
   },
   "outputs": [
    {
     "name": "stdout",
     "output_type": "stream",
     "text": [
      "[DEBUG] test()...\n",
      "None\n"
     ]
    }
   ],
   "source": [
    "@log('DEBUG')\n",
    "def test():\n",
    "    pass\n",
    "print test()"
   ]
  },
  {
   "cell_type": "code",
   "execution_count": 72,
   "metadata": {
    "collapsed": false
   },
   "outputs": [
    {
     "name": "stdout",
     "output_type": "stream",
     "text": [
      "call factorial() in 0.000000 ms\n",
      "3628800\n"
     ]
    }
   ],
   "source": [
    "import time\n",
    "\n",
    "def performance(unit):\n",
    "    def per_decorator(f):\n",
    "        def per_f(*args,**kw):\n",
    "            t1 = time.time()\n",
    "            r = f(*args, **kw)\n",
    "            t2 = time.time()\n",
    "            t = (t2 - t1) * 1000 if unit=='ms' else (t2 - t1)\n",
    "            print('call %s() in %f %s' % (f.__name__, t, unit))\n",
    "            return f(*args,**kw)\n",
    "        return per_f\n",
    "    return per_decorator\n",
    "\n",
    "@performance('ms')\n",
    "def factorial(n):\n",
    "    return reduce(lambda x,y: x*y, range(1, n+1))\n",
    "\n",
    "print factorial(10)"
   ]
  },
  {
   "cell_type": "code",
   "execution_count": 73,
   "metadata": {
    "collapsed": false
   },
   "outputs": [
    {
     "name": "stdout",
     "output_type": "stream",
     "text": [
      "factorial\n"
     ]
    }
   ],
   "source": [
    "import time, functools\n",
    "\n",
    "def performance(unit):\n",
    "    def per_decorator(f):\n",
    "        @functools.wraps(f)\n",
    "        def per_f(*args,**kw):\n",
    "            t1 = time.time()\n",
    "            r = f(*args, **kw)\n",
    "            t2 = time.time()\n",
    "            t = (t2 - t1) * 1000 if unit=='ms' else (t2 - t1)\n",
    "            print('call %s() in %f %s' % (f.__name__, t, unit))\n",
    "            return f(*args,**kw)\n",
    "        return per_f\n",
    "    return per_decorator\n",
    "\n",
    "@performance('ms')\n",
    "def factorial(n):\n",
    "    return reduce(lambda x,y: x*y, range(1, n+1))\n",
    "\n",
    "print factorial.__name__"
   ]
  },
  {
   "cell_type": "markdown",
   "metadata": {},
   "source": [
    "Python中偏函数"
   ]
  },
  {
   "cell_type": "code",
   "execution_count": 77,
   "metadata": {
    "collapsed": false
   },
   "outputs": [
    {
     "name": "stdout",
     "output_type": "stream",
     "text": [
      "12345\n",
      "5349\n",
      "74565\n",
      "12345\n"
     ]
    }
   ],
   "source": [
    "print(int('12345'))\n",
    "print int('12345',base=8)\n",
    "print int('12345',base=16)\n",
    "print int('12345',base=10)"
   ]
  },
  {
   "cell_type": "code",
   "execution_count": 76,
   "metadata": {
    "collapsed": false
   },
   "outputs": [
    {
     "name": "stdout",
     "output_type": "stream",
     "text": [
      "63\n"
     ]
    }
   ],
   "source": [
    "def int2(x,base=2):\n",
    "    return int(x,base)\n",
    "print(int2('111111'))"
   ]
  },
  {
   "cell_type": "markdown",
   "metadata": {},
   "source": [
    "functools.partial就是帮助我们创建一个偏函数的，不需要我们自己定义int2()，可以直接使用下面的代码创建一个新的函数int2："
   ]
  },
  {
   "cell_type": "code",
   "execution_count": 79,
   "metadata": {
    "collapsed": false
   },
   "outputs": [
    {
     "name": "stdout",
     "output_type": "stream",
     "text": [
      "96\n"
     ]
    }
   ],
   "source": [
    "import functools\n",
    "int3 = functools.partial(int,base=2)\n",
    "print(int3('1100000'))"
   ]
  },
  {
   "cell_type": "code",
   "execution_count": 80,
   "metadata": {
    "collapsed": false
   },
   "outputs": [
    {
     "name": "stdout",
     "output_type": "stream",
     "text": [
      "['about', 'bob', 'Credit', 'Zoo']\n"
     ]
    }
   ],
   "source": [
    "import functools\n",
    "\n",
    "sorted_ignore_case = functools.partial(sorted,cmp=lambda s1, s2: cmp(s1.upper(), s2.upper()))\n",
    "\n",
    "print sorted_ignore_case(['bob', 'about', 'Zoo', 'Credit'])"
   ]
  },
  {
   "cell_type": "markdown",
   "metadata": {},
   "source": [
    "## 模块与包"
   ]
  }
 ],
 "metadata": {
  "kernelspec": {
   "display_name": "Python 2",
   "language": "python",
   "name": "python2"
  },
  "language_info": {
   "codemirror_mode": {
    "name": "ipython",
    "version": 2
   },
   "file_extension": ".py",
   "mimetype": "text/x-python",
   "name": "python",
   "nbconvert_exporter": "python",
   "pygments_lexer": "ipython2",
   "version": "2.7.13"
  }
 },
 "nbformat": 4,
 "nbformat_minor": 2
}

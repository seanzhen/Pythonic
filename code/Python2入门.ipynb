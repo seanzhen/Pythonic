{
 "cells": [
  {
   "cell_type": "markdown",
   "metadata": {},
   "source": [
    "### 等差数列可以定义为每一项与它的前一项的差等于一个常数，可以用变量 x1 表示等差数列的第一项，用 d 表示公差，请计算数列1 4 7 10 13 16 19 ...前 100 项的和。"
   ]
  },
  {
   "cell_type": "code",
   "execution_count": 1,
   "metadata": {
    "collapsed": false
   },
   "outputs": [
    {
     "name": "stdout",
     "output_type": "stream",
     "text": [
      "14950\n"
     ]
    }
   ],
   "source": [
    "x1 = 1\n",
    "d = 3\n",
    "n = 100\n",
    "x100 =  x1 + (n-1)*d\n",
    "s = (x1 +x100)*n/2\n",
    "print s"
   ]
  },
  {
   "cell_type": "markdown",
   "metadata": {},
   "source": [
    "### 如果一个字符串包含很多需要转义的字符，对每一个字符都进行转义会很麻烦。为了避免这种情况，我们可以在字符串前面加个前缀 r ，表示这是一个 raw 字符串，里面的字符就不需要转义了。"
   ]
  },
  {
   "cell_type": "markdown",
   "metadata": {},
   "source": [
    "### 如果要表示多行字符串，可以用'''...'''表示："
   ]
  },
  {
   "cell_type": "code",
   "execution_count": 2,
   "metadata": {
    "collapsed": false,
    "scrolled": true
   },
   "outputs": [
    {
     "name": "stdout",
     "output_type": "stream",
     "text": [
      "\"To be, or not to be\":that is the question.\n",
      "Whether it's nobler in the mind to suffer.\n"
     ]
    }
   ],
   "source": [
    "print r'''\"To be, or not to be\":that is the question.\n",
    "Whether it's nobler in the mind to suffer.'''"
   ]
  },
  {
   "cell_type": "markdown",
   "metadata": {},
   "source": [
    "### 不要输入u，-*- coding: utf-8 -*- 这句已经起到中文编码的效果了"
   ]
  },
  {
   "cell_type": "code",
   "execution_count": 5,
   "metadata": {
    "collapsed": false
   },
   "outputs": [
    {
     "name": "stdout",
     "output_type": "stream",
     "text": [
      "静夜思\n",
      "床前明月光，\n",
      "疑是地上霜。\n",
      "举头望明月，\n",
      "低头思故乡。\n"
     ]
    }
   ],
   "source": [
    "# -*- coding: utf-8 -*-\n",
    "print '''静夜思\n",
    "床前明月光，\n",
    "疑是地上霜。\n",
    "举头望明月，\n",
    "低头思故乡。'''"
   ]
  },
  {
   "cell_type": "markdown",
   "metadata": {},
   "source": [
    "### 倒叙访问list"
   ]
  },
  {
   "cell_type": "code",
   "execution_count": 7,
   "metadata": {
    "collapsed": false
   },
   "outputs": [
    {
     "name": "stdout",
     "output_type": "stream",
     "text": [
      "59\n",
      "85\n",
      "95.5\n"
     ]
    }
   ],
   "source": [
    "L = [95.5, 85, 59]\n",
    "print L[-1]\n",
    "print L[-2]\n",
    "print L[-3]"
   ]
  },
  {
   "cell_type": "markdown",
   "metadata": {},
   "source": [
    "### 添加新元素\n",
    "#### 第一种方法：append\n",
    "#### 第二种方法：insert"
   ]
  },
  {
   "cell_type": "code",
   "execution_count": 8,
   "metadata": {
    "collapsed": false
   },
   "outputs": [
    {
     "name": "stdout",
     "output_type": "stream",
     "text": [
      "['Adam', 'Lisa', 'Paul', 'Bart']\n"
     ]
    }
   ],
   "source": [
    "L = ['Adam', 'Lisa', 'Bart']\n",
    "L.insert(2,'Paul')\n",
    "print L"
   ]
  },
  {
   "cell_type": "code",
   "execution_count": 10,
   "metadata": {
    "collapsed": false
   },
   "outputs": [
    {
     "name": "stdout",
     "output_type": "stream",
     "text": [
      "['Adam', 'Lisa']\n"
     ]
    }
   ],
   "source": [
    "L = ['Adam', 'Lisa', 'Paul', 'Bart']\n",
    "L.pop(2)\n",
    "L.pop(2)\n",
    "print L"
   ]
  },
  {
   "cell_type": "code",
   "execution_count": 9,
   "metadata": {
    "collapsed": false
   },
   "outputs": [
    {
     "name": "stdout",
     "output_type": "stream",
     "text": [
      "['Bart', 'Lisa', 'Adam']\n"
     ]
    }
   ],
   "source": [
    "L = ['Adam', 'Lisa', 'Bart']\n",
    "L[0],L[2] = L[2],L[0]\n",
    "print L"
   ]
  },
  {
   "cell_type": "markdown",
   "metadata": {},
   "source": [
    "### 创建tuple\n",
    "#### tuple是另一种有序的列表，成为‘元组’。tuple和list非常相似，但是tuple一旦创建完就不能修改了\n",
    "#### tuple元素的获取方式和list是一模一样的，我们可以正常使用t[0],t[-1]等索引方式访问元素，但是不能赋值别的元素。"
   ]
  },
  {
   "cell_type": "code",
   "execution_count": 11,
   "metadata": {
    "collapsed": false
   },
   "outputs": [
    {
     "name": "stdout",
     "output_type": "stream",
     "text": [
      "(0, 1, 2, 3, 4, 5, 6, 7, 8, 9)\n"
     ]
    }
   ],
   "source": [
    "t = (0,1,2,3,4,5,6,7,8,9)\n",
    "print t"
   ]
  },
  {
   "cell_type": "markdown",
   "metadata": {},
   "source": [
    "#### 在元组里加入list相当于“可变”"
   ]
  },
  {
   "cell_type": "code",
   "execution_count": 13,
   "metadata": {
    "collapsed": false
   },
   "outputs": [
    {
     "name": "stdout",
     "output_type": "stream",
     "text": [
      "('a', 'b', ['X', 'Y'])\n"
     ]
    }
   ],
   "source": [
    "t = ('a', 'b', ['A', 'B'])\n",
    "L = t[2]\n",
    "L[0] = 'X'\n",
    "L[1] = 'Y'\n",
    "print t"
   ]
  },
  {
   "cell_type": "markdown",
   "metadata": {},
   "source": [
    "### if eif else"
   ]
  },
  {
   "cell_type": "code",
   "execution_count": 14,
   "metadata": {
    "collapsed": false
   },
   "outputs": [
    {
     "name": "stdout",
     "output_type": "stream",
     "text": [
      "good\n"
     ]
    }
   ],
   "source": [
    "score = 85\n",
    "\n",
    "if score >= 90:\n",
    "    print 'excellent'\n",
    "elif score >= 80:\n",
    "    print 'good'\n",
    "elif score >=60:\n",
    "    print 'passed'\n",
    "else:\n",
    "    print 'failed'"
   ]
  },
  {
   "cell_type": "code",
   "execution_count": 15,
   "metadata": {
    "collapsed": false
   },
   "outputs": [
    {
     "name": "stdout",
     "output_type": "stream",
     "text": [
      "73.5\n"
     ]
    }
   ],
   "source": [
    "L = [75, 92, 59, 68]\n",
    "sum = 0.0\n",
    "for i in L:\n",
    "    sum = sum + i\n",
    "print sum / 4"
   ]
  },
  {
   "cell_type": "markdown",
   "metadata": {},
   "source": [
    "#### 利用 while True 无限循环配合 break 语句，计算 1 + 2 + 4 + 8 + 16 + ... 的前20项的和。"
   ]
  },
  {
   "cell_type": "code",
   "execution_count": 16,
   "metadata": {
    "collapsed": false
   },
   "outputs": [
    {
     "name": "stdout",
     "output_type": "stream",
     "text": [
      "1048575\n"
     ]
    }
   ],
   "source": [
    "sum = 0\n",
    "x = 1\n",
    "n = 1\n",
    "while True:\n",
    "    if n>20:\n",
    "        break\n",
    "    sum = sum +x\n",
    "    x = 2*x\n",
    "    n = n+1\n",
    "print sum"
   ]
  },
  {
   "cell_type": "markdown",
   "metadata": {},
   "source": [
    "#### 对已有的计算 0 - 100 的while循环进行改造，通过增加 continue 语句，使得只计算奇数的和：\n",
    "#### 在循环过程中，可以用break退出当前循环，还可以用continue跳过后续循环代码，继续下一次循环。"
   ]
  },
  {
   "cell_type": "code",
   "execution_count": 17,
   "metadata": {
    "collapsed": false
   },
   "outputs": [
    {
     "name": "stdout",
     "output_type": "stream",
     "text": [
      "2500\n"
     ]
    }
   ],
   "source": [
    "sum = 0\n",
    "x = 0\n",
    "while True:\n",
    "    x = x + 1\n",
    "    if x > 100:\n",
    "        break\n",
    "    if x%2==0:\n",
    "        continue\n",
    "    sum = sum + x\n",
    "print sum"
   ]
  },
  {
   "cell_type": "markdown",
   "metadata": {},
   "source": [
    "### 字典\n",
    "#### dict的第一个特点是查找速度快，每个元素的查找速度一样，而list的查找速度随着元素增加而逐渐下降\n",
    "#### 缺点是占用内存大，还会浪费很多内容，list正好相反，占用内存小，但是查找速度慢\n",
    "#### 一个dict中的key不能重复，存储的key-value是没有顺序的\n",
    "#### dict中作为key的元素必须不可变！"
   ]
  },
  {
   "cell_type": "code",
   "execution_count": 20,
   "metadata": {
    "collapsed": false
   },
   "outputs": [
    {
     "name": "stdout",
     "output_type": "stream",
     "text": [
      "Adam: 95\n",
      "Lisa: 85\n",
      "Bart: 59\n"
     ]
    }
   ],
   "source": [
    "d = {\n",
    "    'Adam': 95,\n",
    "    'Lisa': 85,\n",
    "    'Bart': 59,\n",
    "    'Paul': 75\n",
    "}\n",
    "print 'Adam:',d['Adam']\n",
    "print 'Lisa:',d['Lisa']\n",
    "print 'Bart:',d['Bart']"
   ]
  },
  {
   "cell_type": "code",
   "execution_count": 21,
   "metadata": {
    "collapsed": false
   },
   "outputs": [
    {
     "name": "stdout",
     "output_type": "stream",
     "text": [
      "Lisa : 85\n",
      "Adam : 95\n",
      "Bart : 59\n"
     ]
    }
   ],
   "source": [
    "d = {\n",
    "    'Adam': 95,\n",
    "    'Lisa': 85,\n",
    "    'Bart': 59\n",
    "}\n",
    "for i in d:\n",
    "    print i,\":\",d[i]"
   ]
  },
  {
   "cell_type": "markdown",
   "metadata": {},
   "source": [
    "### set\n",
    "#### dict的作用是建立一组key和一组value的映射关系，dict的key是不能重复的\n",
    "#### set持有一系列元素，这一点和list很像，但是set的元素没有重复，而且是无序的，这点和dict的key很像"
   ]
  },
  {
   "cell_type": "code",
   "execution_count": 22,
   "metadata": {
    "collapsed": false
   },
   "outputs": [
    {
     "name": "stdout",
     "output_type": "stream",
     "text": [
      "set(['Lisa', 'Paul', 'Adam', 'Bart'])\n"
     ]
    }
   ],
   "source": [
    "s = set(['Adam','Lisa','Bart','Paul'])\n",
    "print s"
   ]
  },
  {
   "cell_type": "markdown",
   "metadata": {},
   "source": [
    "#### set的内部结构和dict很像，唯一区别是不存储value\n",
    "#### set存储的元素和dict的key类似，必须是不变对象"
   ]
  },
  {
   "cell_type": "code",
   "execution_count": 23,
   "metadata": {
    "collapsed": false
   },
   "outputs": [
    {
     "name": "stdout",
     "output_type": "stream",
     "text": [
      "x1: ok\n",
      "x2: error\n"
     ]
    }
   ],
   "source": [
    "months = set(['Jan','Feb'])\n",
    "x1 = 'Feb'\n",
    "x2 = 'Sun'\n",
    "\n",
    "if x1 in months:\n",
    "    print 'x1: ok'\n",
    "else:\n",
    "    print 'x1: error'\n",
    "\n",
    "if x2 in months:\n",
    "    print 'x2: ok'\n",
    "else:\n",
    "    print 'x2: error'"
   ]
  },
  {
   "cell_type": "code",
   "execution_count": 24,
   "metadata": {
    "collapsed": false,
    "scrolled": true
   },
   "outputs": [
    {
     "name": "stdout",
     "output_type": "stream",
     "text": [
      "Lisa : 85\n",
      "Adam : 95\n",
      "Bart : 59\n"
     ]
    }
   ],
   "source": [
    "s = set([('Adam', 95), ('Lisa', 85), ('Bart', 59)])\n",
    "for x in s:\n",
    "    print x[0],':',x[1]"
   ]
  },
  {
   "cell_type": "markdown",
   "metadata": {},
   "source": [
    "#### 添加add()\n",
    "#### 删除remove()"
   ]
  },
  {
   "cell_type": "code",
   "execution_count": 25,
   "metadata": {
    "collapsed": false
   },
   "outputs": [
    {
     "name": "stdout",
     "output_type": "stream",
     "text": [
      "set(['Bart'])\n"
     ]
    }
   ],
   "source": [
    "s = set(['Adam', 'Lisa', 'Paul'])\n",
    "L = ['Adam', 'Lisa', 'Bart', 'Paul']\n",
    "for name in L:\n",
    "    if name in s:\n",
    "        s.remove(name)\n",
    "    else:\n",
    "        s.add(name)\n",
    "        \n",
    "print s"
   ]
  },
  {
   "cell_type": "markdown",
   "metadata": {},
   "source": [
    "### 递归函数\n",
    "汉诺塔 (http://baike.baidu.com/view/191666.htm) 的移动也可以看做是递归函数。\n",
    "\n",
    "我们对柱子编号为a, b, c，将所有圆盘从a移到c可以描述为：\n",
    "\n",
    "如果a只有一个圆盘，可以直接移动到c；\n",
    "\n",
    "如果a有N个圆盘，可以看成a有1个圆盘（底盘） + (N-1)个圆盘，首先需要把 (N-1) 个圆盘移动到 b，然后，将 a的最后一个圆盘移动到c，再将b的(N-1)个圆盘移动到c。\n",
    "\n",
    "请编写一个函数，给定输入 n, a, b, c，打印出移动的步骤：\n",
    "\n",
    "move(n, a, b, c)\n",
    "\n",
    "例如，输入 move(2, 'A', 'B', 'C')，打印出：\n",
    "\n",
    "<p>A --> B<p>\n",
    "<p>A --> C<p>\n",
    "<p>B --> C<p>\n"
   ]
  },
  {
   "cell_type": "code",
   "execution_count": 26,
   "metadata": {
    "collapsed": false
   },
   "outputs": [
    {
     "name": "stdout",
     "output_type": "stream",
     "text": [
      "A --> B\n",
      "A --> C\n",
      "B --> C\n",
      "A --> B\n",
      "C --> A\n",
      "C --> B\n",
      "A --> B\n",
      "A --> C\n",
      "B --> C\n",
      "B --> A\n",
      "C --> A\n",
      "B --> C\n",
      "A --> B\n",
      "A --> C\n",
      "B --> C\n"
     ]
    }
   ],
   "source": [
    "def move(n, a, b, c):\n",
    "    if n ==1:\n",
    "        print a, '-->', c\n",
    "        return\n",
    "    move(n-1, a, c, b)\n",
    "    print a, '-->', c\n",
    "    move(n-1, b, a, c)    \n",
    "\n",
    "move(4, 'A', 'B', 'C')"
   ]
  },
  {
   "cell_type": "markdown",
   "metadata": {},
   "source": [
    "### 定义可变参数\n",
    "如果想让一个函数能接受任意个参数，我们就可以定义一个可变参数："
   ]
  },
  {
   "cell_type": "code",
   "execution_count": 27,
   "metadata": {
    "collapsed": true
   },
   "outputs": [],
   "source": [
    "def fn(*args):\n",
    "    print args"
   ]
  },
  {
   "cell_type": "code",
   "execution_count": 28,
   "metadata": {
    "collapsed": false
   },
   "outputs": [
    {
     "name": "stdout",
     "output_type": "stream",
     "text": [
      "()\n",
      "('a',)\n",
      "('1', 'a')\n"
     ]
    }
   ],
   "source": [
    "fn()\n",
    "fn('a')\n",
    "fn('1','a')"
   ]
  },
  {
   "cell_type": "code",
   "execution_count": 35,
   "metadata": {
    "collapsed": false
   },
   "outputs": [
    {
     "name": "stdout",
     "output_type": "stream",
     "text": [
      "0.0\n",
      "1.5\n",
      "2.4\n"
     ]
    }
   ],
   "source": [
    "def average(*args):\n",
    "    sum = 0.0\n",
    "    if len(args) == 0:\n",
    "        return 0.0 \n",
    "    for i in args:\n",
    "        sum = i+ sum\n",
    "    return sum/len(args)\n",
    "\n",
    "print average()\n",
    "print average(1, 2)\n",
    "print average(1, 2, 2, 3, 4)"
   ]
  },
  {
   "cell_type": "markdown",
   "metadata": {},
   "source": [
    "### 切片"
   ]
  },
  {
   "cell_type": "code",
   "execution_count": 36,
   "metadata": {
    "collapsed": false
   },
   "outputs": [
    {
     "name": "stdout",
     "output_type": "stream",
     "text": [
      "[1, 2, 3, 4, 5, 6, 7, 8, 9, 10]\n",
      "[3, 6, 9, 12, 15, 18, 21, 24, 27, 30, 33, 36, 39, 42, 45, 48, 51, 54, 57, 60, 63, 66, 69, 72, 75, 78, 81, 84, 87, 90, 93, 96, 99]\n",
      "[5, 10, 15, 20, 25, 30, 35, 40, 45, 50]\n"
     ]
    }
   ],
   "source": [
    "L = range(1, 101)\n",
    "\n",
    "print L[0:10]\n",
    "print L[2::3]\n",
    "print L[4:50:5]"
   ]
  },
  {
   "cell_type": "code",
   "execution_count": 38,
   "metadata": {
    "collapsed": false
   },
   "outputs": [
    {
     "name": "stdout",
     "output_type": "stream",
     "text": [
      "[91, 92, 93, 94, 95, 96, 97, 98, 99, 100]\n",
      "[55, 60, 65, 70, 75, 80, 85, 90, 95, 100]\n"
     ]
    }
   ],
   "source": [
    "L = range(1, 101)\n",
    "print L[-10:]\n",
    "print L[4::5][-10:]"
   ]
  },
  {
   "cell_type": "code",
   "execution_count": 39,
   "metadata": {
    "collapsed": false
   },
   "outputs": [
    {
     "name": "stdout",
     "output_type": "stream",
     "text": [
      "Hello\n",
      "Sunday\n",
      "September\n"
     ]
    }
   ],
   "source": [
    "def firstCharUpper(s): \n",
    "    return s[0].upper()+s[1:]\n",
    "\n",
    "print firstCharUpper('hello')\n",
    "print firstCharUpper('sunday')\n",
    "print firstCharUpper('september')"
   ]
  },
  {
   "cell_type": "markdown",
   "metadata": {},
   "source": [
    "#### 有序集合：list,tuple,str,unicode\n",
    "#### 无序集合: set\n",
    "#### 无序集合并且具有key-value对：dict"
   ]
  },
  {
   "cell_type": "markdown",
   "metadata": {},
   "source": [
    "使用 enumerate() 函数，我们可以在for循环中同时绑定索引index和元素name。迭代的每一个元素实际上是一个tuple"
   ]
  },
  {
   "cell_type": "code",
   "execution_count": 41,
   "metadata": {
    "collapsed": false
   },
   "outputs": [
    {
     "name": "stdout",
     "output_type": "stream",
     "text": [
      "0 - Adam\n",
      "1 - Lisa\n",
      "2 - Bart\n",
      "3 - Paul\n"
     ]
    }
   ],
   "source": [
    "L = ['Adam', 'Lisa', 'Bart', 'Paul']\n",
    "for index, name in enumerate(L):\n",
    "     print index, '-', name"
   ]
  },
  {
   "cell_type": "markdown",
   "metadata": {},
   "source": [
    "zip()函数可以把两个 list 变成一个 list："
   ]
  },
  {
   "cell_type": "code",
   "execution_count": 42,
   "metadata": {
    "collapsed": false
   },
   "outputs": [
    {
     "data": {
      "text/plain": [
       "[(10, 'A'), (20, 'B'), (30, 'C')]"
      ]
     },
     "execution_count": 42,
     "metadata": {},
     "output_type": "execute_result"
    }
   ],
   "source": [
    "zip([10, 20, 30], ['A', 'B', 'C'])"
   ]
  },
  {
   "cell_type": "code",
   "execution_count": 43,
   "metadata": {
    "collapsed": false
   },
   "outputs": [
    {
     "name": "stdout",
     "output_type": "stream",
     "text": [
      "1 - Adam\n",
      "2 - Lisa\n",
      "3 - Bart\n",
      "4 - Paul\n"
     ]
    }
   ],
   "source": [
    "L = ['Adam', 'Lisa', 'Bart', 'Paul']\n",
    "for index, name in zip(L,[1,2,3,4]):\n",
    "    print name, '-', index"
   ]
  },
  {
   "cell_type": "markdown",
   "metadata": {},
   "source": [
    "dict 对象有一个 values() 方法，这个方法把dict转换成一个包含所有value的list，这样，我们迭代的就是 dict的每一个 value"
   ]
  },
  {
   "cell_type": "markdown",
   "metadata": {},
   "source": [
    "<p>values() 方法实际上把一个 dict 转换成了包含 value 的list<p>\n",
    "<p>itervalues() 方法不会转换，它会在迭代过程中依次从 dict 中取出 value，所以 itervalues() 方法比 values() 方法节省了生成 list 所需的内存<p>"
   ]
  },
  {
   "cell_type": "code",
   "execution_count": 44,
   "metadata": {
    "collapsed": false
   },
   "outputs": [
    {
     "name": "stdout",
     "output_type": "stream",
     "text": [
      "78.25\n"
     ]
    }
   ],
   "source": [
    "d = { 'Adam': 95, 'Lisa': 85, 'Bart': 59, 'Paul': 74 }\n",
    "\n",
    "sum = 0.0\n",
    "for v in d.itervalues():\n",
    "    sum = sum + v\n",
    "print sum/len(d.values())"
   ]
  },
  {
   "cell_type": "code",
   "execution_count": 46,
   "metadata": {
    "collapsed": false
   },
   "outputs": [
    {
     "name": "stdout",
     "output_type": "stream",
     "text": [
      "Lisa : 85\n",
      "Paul : 74\n",
      "Adam : 95\n",
      "Bart : 59\n",
      "average : 78.25\n"
     ]
    }
   ],
   "source": [
    "d = { 'Adam': 95, 'Lisa': 85, 'Bart': 59, 'Paul': 74 }\n",
    "\n",
    "sum = 0.0\n",
    "for k, v in d.items():\n",
    "    sum = sum + v\n",
    "    print k,':',v\n",
    "print 'average', ':', sum/len(d.values())"
   ]
  },
  {
   "cell_type": "markdown",
   "metadata": {},
   "source": [
    "### 生成列表"
   ]
  },
  {
   "cell_type": "markdown",
   "metadata": {},
   "source": [
    "请利用列表生成式生成列表 [1x2, 3x4, 5x6, 7x8, ..., 99x100]"
   ]
  },
  {
   "cell_type": "code",
   "execution_count": 47,
   "metadata": {
    "collapsed": false
   },
   "outputs": [
    {
     "name": "stdout",
     "output_type": "stream",
     "text": [
      "[2, 12, 30, 56, 90, 132, 182, 240, 306, 380, 462, 552, 650, 756, 870, 992, 1122, 1260, 1406, 1560, 1722, 1892, 2070, 2256, 2450, 2652, 2862, 3080, 3306, 3540, 3782, 4032, 4290, 4556, 4830, 5112, 5402, 5700, 6006, 6320, 6642, 6972, 7310, 7656, 8010, 8372, 8742, 9120, 9506, 9900]\n"
     ]
    }
   ],
   "source": [
    "print [x*(x+1) for x in range(1,101,2)]"
   ]
  },
  {
   "cell_type": "code",
   "execution_count": 48,
   "metadata": {
    "collapsed": false
   },
   "outputs": [
    {
     "name": "stdout",
     "output_type": "stream",
     "text": [
      "['HELLO', 'WORLD']\n"
     ]
    }
   ],
   "source": [
    "def toUppers(L):\n",
    "    return [x.upper() for x in L if isinstance(x,str) ]\n",
    "\n",
    "print toUppers(['Hello', 'world', 101])"
   ]
  },
  {
   "cell_type": "code",
   "execution_count": 49,
   "metadata": {
    "collapsed": false
   },
   "outputs": [
    {
     "name": "stdout",
     "output_type": "stream",
     "text": [
      "[101, 111, 121, 131, 141, 151, 161, 171, 181, 191, 202, 212, 222, 232, 242, 252, 262, 272, 282, 292, 303, 313, 323, 333, 343, 353, 363, 373, 383, 393, 404, 414, 424, 434, 444, 454, 464, 474, 484, 494, 505, 515, 525, 535, 545, 555, 565, 575, 585, 595, 606, 616, 626, 636, 646, 656, 666, 676, 686, 696, 707, 717, 727, 737, 747, 757, 767, 777, 787, 797, 808, 818, 828, 838, 848, 858, 868, 878, 888, 898, 909, 919, 929, 939, 949, 959, 969, 979, 989, 999]\n"
     ]
    }
   ],
   "source": [
    "print [100*a+10*b+c for a in range(1,10) for b in range(0,10) for c in range(1,10) if a==c]"
   ]
  }
 ],
 "metadata": {
  "anaconda-cloud": {},
  "kernelspec": {
   "display_name": "Python 2",
   "language": "python",
   "name": "python2"
  },
  "language_info": {
   "codemirror_mode": {
    "name": "ipython",
    "version": 2.0
   },
   "file_extension": ".py",
   "mimetype": "text/x-python",
   "name": "python",
   "nbconvert_exporter": "python",
   "pygments_lexer": "ipython2",
   "version": "2.7.13"
  }
 },
 "nbformat": 4,
 "nbformat_minor": 0
}
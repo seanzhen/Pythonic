{
 "cells": [
  {
   "cell_type": "markdown",
   "metadata": {},
   "source": [
    "# 列表"
   ]
  },
  {
   "cell_type": "code",
   "execution_count": 1,
   "metadata": {
    "collapsed": true
   },
   "outputs": [],
   "source": [
    "list1 = ['physics','chemistry',1997,2000]\n",
    "list2 = [1,2,3,4,5]\n",
    "list3 = [\"a\",\"b\",\"c\",\"d\"]"
   ]
  },
  {
   "cell_type": "code",
   "execution_count": 2,
   "metadata": {
    "collapsed": false
   },
   "outputs": [
    {
     "name": "stdout",
     "output_type": "stream",
     "text": [
      "['physics', 'chemistry', 1997, 2000]\n",
      "[1, 2, 3, 4, 5]\n",
      "['a', 'b', 'c', 'd']\n"
     ]
    }
   ],
   "source": [
    "print(list1)\n",
    "print(list2)\n",
    "print(list3)"
   ]
  },
  {
   "cell_type": "code",
   "execution_count": 5,
   "metadata": {
    "collapsed": false
   },
   "outputs": [
    {
     "name": "stdout",
     "output_type": "stream",
     "text": [
      "physics\n",
      "3\n",
      "d\n"
     ]
    }
   ],
   "source": [
    "print(list1[0])\n",
    "print(list2[2])\n",
    "print(list3[3])"
   ]
  },
  {
   "cell_type": "code",
   "execution_count": 6,
   "metadata": {
    "collapsed": false
   },
   "outputs": [
    {
     "name": "stdout",
     "output_type": "stream",
     "text": [
      "4\n"
     ]
    }
   ],
   "source": [
    "print(len(list1))"
   ]
  },
  {
   "cell_type": "code",
   "execution_count": 9,
   "metadata": {
    "collapsed": false
   },
   "outputs": [
    {
     "name": "stdout",
     "output_type": "stream",
     "text": [
      "physics\n",
      "chemistry\n",
      "1997\n",
      "2000\n"
     ]
    }
   ],
   "source": [
    "for i in range(len(list1)):\n",
    "    print(list1[i])"
   ]
  },
  {
   "cell_type": "code",
   "execution_count": 10,
   "metadata": {
    "collapsed": true
   },
   "outputs": [],
   "source": [
    "mylist = [10,20,30]\n",
    "mylist.append(1)"
   ]
  },
  {
   "cell_type": "code",
   "execution_count": 15,
   "metadata": {
    "collapsed": false
   },
   "outputs": [
    {
     "name": "stdout",
     "output_type": "stream",
     "text": [
      "[10, 20, 30, 1]\n",
      "10\n",
      "20\n",
      "30\n",
      "1\n"
     ]
    }
   ],
   "source": [
    "print(mylist)\n",
    "for i in mylist:\n",
    "    print i"
   ]
  },
  {
   "cell_type": "code",
   "execution_count": 14,
   "metadata": {
    "collapsed": false
   },
   "outputs": [
    {
     "name": "stdout",
     "output_type": "stream",
     "text": [
      "1999\n",
      "[1999, 'chemistry', 1997, 2000]\n"
     ]
    }
   ],
   "source": [
    "print(list1[0])\n",
    "list1[0] = 1999\n",
    "print(list1)"
   ]
  },
  {
   "cell_type": "code",
   "execution_count": 16,
   "metadata": {
    "collapsed": false
   },
   "outputs": [
    {
     "name": "stdout",
     "output_type": "stream",
     "text": [
      "['chemistry', 1997, 2000]\n"
     ]
    }
   ],
   "source": [
    "del list1[0]\n",
    "print(list1)"
   ]
  },
  {
   "cell_type": "code",
   "execution_count": 44,
   "metadata": {
    "collapsed": false
   },
   "outputs": [
    {
     "name": "stdout",
     "output_type": "stream",
     "text": [
      "Year: 2029\n",
      "Month: 12\n",
      "Day(1~31): 21\n",
      "December 21st, 2029\n"
     ]
    }
   ],
   "source": [
    "#根据给定的年月日以数字形式打印出日期  \n",
    "months = [  \n",
    "       'January', #一月  \n",
    "       'February', #二月  \n",
    "       'March', #三月  \n",
    "       'April', #四月  \n",
    "       'May', #五月  \n",
    "       'June', #六月  \n",
    "       'July', #七月  \n",
    "       'August', #八月  \n",
    "       'September', #九月  \n",
    "       'October', #十月  \n",
    "       'November', #十一月  \n",
    "       'December' #十二月  \n",
    "   ];  \n",
    "   \n",
    "#以1~31的数字作为结尾的列表  \n",
    "endings = ['st', 'nd', 'rd'] + 17 * ['th']  + ['st', 'nd', 'rd'] + 7 * ['th']  + ['st'];  \n",
    "   \n",
    "#输入年、月、日  \n",
    "year = raw_input('Year: ');  \n",
    "month = raw_input('Month: ');  \n",
    "day = raw_input('Day(1~31): ');  \n",
    "   \n",
    "#计算月、日的索引  \n",
    "month_number = int(month);  \n",
    "day_number = int(day);  \n",
    "   \n",
    "#将月份和天数减1，以获得争取的索引  \n",
    "month_name = months[month_number - 1];  \n",
    "ordinal = day + endings[day_number - 1];  \n",
    "   \n",
    "print month_name + ' ' + ordinal + ', ' +year;  "
   ]
  },
  {
   "cell_type": "code",
   "execution_count": 6,
   "metadata": {
    "collapsed": false
   },
   "outputs": [
    {
     "name": "stdout",
     "output_type": "stream",
     "text": [
      "['Bart', 'Lisa', 'Adam']\n"
     ]
    }
   ],
   "source": [
    "L = ['Adam','Lisa','Bart']\n",
    "L.insert(0,L.pop())\n",
    "L.insert(1,L.pop())\n",
    "print L"
   ]
  },
  {
   "cell_type": "code",
   "execution_count": 10,
   "metadata": {
    "collapsed": false
   },
   "outputs": [
    {
     "name": "stdout",
     "output_type": "stream",
     "text": [
      "73.5\n"
     ]
    }
   ],
   "source": [
    "L = [75, 92, 59, 68]\n",
    "sum = 0.0\n",
    "for i in range(len(L)):\n",
    "    sum = sum + L[i]\n",
    "print sum / 4"
   ]
  },
  {
   "cell_type": "markdown",
   "metadata": {},
   "source": [
    "## 汉诺塔移动"
   ]
  },
  {
   "cell_type": "code",
   "execution_count": 55,
   "metadata": {
    "collapsed": false
   },
   "outputs": [
    {
     "name": "stdout",
     "output_type": "stream",
     "text": [
      "A --> B\n",
      "A --> C\n",
      "B --> C\n"
     ]
    }
   ],
   "source": [
    "def move(n, a, b, c):\n",
    "    if n ==1:\n",
    "        print a, '-->', c\n",
    "        return\n",
    "    move(n-1, a, c, b)\n",
    "    print a, '-->', c\n",
    "    move(n-1, b, a, c)    \n",
    "\n",
    "move(2, 'A', 'B', 'C')"
   ]
  },
  {
   "cell_type": "code",
   "execution_count": 144,
   "metadata": {
    "collapsed": false
   },
   "outputs": [
    {
     "name": "stdout",
     "output_type": "stream",
     "text": [
      "<table>\n",
      "<tr><th>Name</th><th>Score</th><tr>\n",
      "<tr><td>Lisa</td><td>85</td></tr>\n",
      "<tr><td>Adam</td><td>95</td></tr>\n",
      "<tr><td>Bart</td><td>59</td></tr>\n",
      "</table>\n"
     ]
    }
   ],
   "source": [
    "d = { 'Adam': 95, 'Lisa': 85, 'Bart': 59 }\n",
    "tds = ['<tr><td>%s</td><td>%s</td></tr>' % (name, score) for name, score in d.iteritems()]\n",
    "print '<table>'\n",
    "print '<tr><th>Name</th><th>Score</th><tr>'\n",
    "print '\\n'.join(tds)\n",
    "print '</table>'"
   ]
  },
  {
   "cell_type": "code",
   "execution_count": 146,
   "metadata": {
    "collapsed": false
   },
   "outputs": [
    {
     "name": "stdout",
     "output_type": "stream",
     "text": [
      "['HELLO', 'WORLD']\n"
     ]
    }
   ],
   "source": [
    "def toUppers(L):\n",
    "    return [x.upper() for x in L if isinstance(x,str) ]\n",
    "\n",
    "print toUppers(['Hello', 'world', 101])"
   ]
  },
  {
   "cell_type": "code",
   "execution_count": 148,
   "metadata": {
    "collapsed": false
   },
   "outputs": [
    {
     "name": "stdout",
     "output_type": "stream",
     "text": [
      "[111, 121, 131, 141, 151, 161, 171, 181, 191, 212, 222, 232, 242, 252, 262, 272, 282, 292, 313, 323, 333, 343, 353, 363, 373, 383, 393, 414, 424, 434, 444, 454, 464, 474, 484, 494, 515, 525, 535, 545, 555, 565, 575, 585, 595, 616, 626, 636, 646, 656, 666, 676, 686, 696, 717, 727, 737, 747, 757, 767, 777, 787, 797, 818, 828, 838, 848, 858, 868, 878, 888, 898, 919, 929, 939, 949, 959, 969, 979, 989, 999]\n"
     ]
    }
   ],
   "source": [
    "print [100*a+10*b+c for a in range(1,10) for b in range(1,10) for c in range(1,10) if a==c]"
   ]
  },
  {
   "cell_type": "markdown",
   "metadata": {},
   "source": [
    "# 字典"
   ]
  },
  {
   "cell_type": "code",
   "execution_count": 1,
   "metadata": {
    "collapsed": true
   },
   "outputs": [],
   "source": [
    "box = {'fruits:':['apple','orange'],'money':1993,'name':'obama'}"
   ]
  },
  {
   "cell_type": "code",
   "execution_count": 4,
   "metadata": {
    "collapsed": false
   },
   "outputs": [
    {
     "name": "stdout",
     "output_type": "stream",
     "text": [
      "['apple', 'orange']\n",
      "apple\n",
      "1993\n"
     ]
    }
   ],
   "source": [
    "print box['fruits:']\n",
    "print box['fruits:'][0]\n",
    "print box['money']"
   ]
  },
  {
   "cell_type": "code",
   "execution_count": 9,
   "metadata": {
    "collapsed": false
   },
   "outputs": [
    {
     "name": "stdout",
     "output_type": "stream",
     "text": [
      "<type 'list'>\n",
      "<type 'int'>\n",
      "<type 'str'>\n"
     ]
    }
   ],
   "source": [
    "print type(box['fruits:'])\n",
    "print type(box['money'])\n",
    "print type(box['name'])"
   ]
  },
  {
   "cell_type": "code",
   "execution_count": 10,
   "metadata": {
    "collapsed": false
   },
   "outputs": [
    {
     "name": "stdout",
     "output_type": "stream",
     "text": [
      "{'money': 1993, 'name': 'obama', 'fruits:': ['apple', 'orange'], 'nation': 'USA'}\n"
     ]
    }
   ],
   "source": [
    "box['nation'] = 'USA'\n",
    "print box"
   ]
  },
  {
   "cell_type": "code",
   "execution_count": 12,
   "metadata": {
    "collapsed": false
   },
   "outputs": [
    {
     "data": {
      "text/plain": [
       "{'fruits:': ['apple', 'orange'],\n",
       " 'money': 1993,\n",
       " 'name': 'obama',\n",
       " 'nation': 'USA'}"
      ]
     },
     "execution_count": 12,
     "metadata": {},
     "output_type": "execute_result"
    }
   ],
   "source": [
    "box"
   ]
  },
  {
   "cell_type": "code",
   "execution_count": 13,
   "metadata": {
    "collapsed": false
   },
   "outputs": [
    {
     "data": {
      "text/plain": [
       "['money', 'name', 'fruits:', 'nation']"
      ]
     },
     "execution_count": 13,
     "metadata": {},
     "output_type": "execute_result"
    }
   ],
   "source": [
    "box.keys()"
   ]
  },
  {
   "cell_type": "code",
   "execution_count": 14,
   "metadata": {
    "collapsed": false
   },
   "outputs": [
    {
     "data": {
      "text/plain": [
       "[1993, 'obama', ['apple', 'orange'], 'USA']"
      ]
     },
     "execution_count": 14,
     "metadata": {},
     "output_type": "execute_result"
    }
   ],
   "source": [
    "box.values()"
   ]
  },
  {
   "cell_type": "code",
   "execution_count": 15,
   "metadata": {
    "collapsed": false
   },
   "outputs": [
    {
     "name": "stdout",
     "output_type": "stream",
     "text": [
      "{'name': 'earth', 'port': 80}\n",
      "{'name': 'earth'}\n"
     ]
    }
   ],
   "source": [
    "dict1 = {'name':'earth','port':80}\n",
    "print dict1\n",
    "del dict1['port']\n",
    "print dict1"
   ]
  },
  {
   "cell_type": "markdown",
   "metadata": {},
   "source": [
    "### 删除dict1中的所有条目，但是dict1定义还是在的"
   ]
  },
  {
   "cell_type": "code",
   "execution_count": 16,
   "metadata": {
    "collapsed": true
   },
   "outputs": [],
   "source": [
    "dict1.clear()"
   ]
  },
  {
   "cell_type": "code",
   "execution_count": 17,
   "metadata": {
    "collapsed": false
   },
   "outputs": [
    {
     "name": "stdout",
     "output_type": "stream",
     "text": [
      "<type 'dict'>\n"
     ]
    }
   ],
   "source": [
    "print dict"
   ]
  },
  {
   "cell_type": "code",
   "execution_count": 19,
   "metadata": {
    "collapsed": false
   },
   "outputs": [
    {
     "name": "stdout",
     "output_type": "stream",
     "text": [
      "{}\n"
     ]
    }
   ],
   "source": [
    "dict1 = {}\n",
    "print dict1"
   ]
  },
  {
   "cell_type": "markdown",
   "metadata": {},
   "source": [
    "### 删除整个字典dict1，删除后就无法print"
   ]
  },
  {
   "cell_type": "code",
   "execution_count": 20,
   "metadata": {
    "collapsed": false
   },
   "outputs": [
    {
     "ename": "NameError",
     "evalue": "name 'dict1' is not defined",
     "output_type": "error",
     "traceback": [
      "\u001b[1;31m---------------------------------------------------------------------------\u001b[0m",
      "\u001b[1;31mNameError\u001b[0m                                 Traceback (most recent call last)",
      "\u001b[1;32m<ipython-input-20-bea90ae625fe>\u001b[0m in \u001b[0;36m<module>\u001b[1;34m()\u001b[0m\n\u001b[0;32m      1\u001b[0m \u001b[1;32mdel\u001b[0m \u001b[0mdict1\u001b[0m\u001b[1;33m\u001b[0m\u001b[0m\n\u001b[1;32m----> 2\u001b[1;33m \u001b[1;32mprint\u001b[0m \u001b[0mdict1\u001b[0m\u001b[1;33m\u001b[0m\u001b[0m\n\u001b[0m",
      "\u001b[1;31mNameError\u001b[0m: name 'dict1' is not defined"
     ]
    }
   ],
   "source": [
    "del dict1\n",
    "print dict1"
   ]
  },
  {
   "cell_type": "markdown",
   "metadata": {},
   "source": [
    "#### 1、cmp(dict1, dict2)：比较两个字典元素。\n",
    "#### 2、len(dict)：计算字典元素个数，即键的总数。\n",
    "#### 3、str(dict)：输出字典可打印的字符串表示。\n",
    "### 4、type(variable)：返回输入的变量类型，如果变量是字典就返回字典类型。\n",
    "\n",
    "#### Python字典包含了以下内置方法：\n",
    "#### 1、radiansdict.clear()：删除字典内所有元素\n",
    "#### 2、radiansdict.copy()：返回一个字典的浅复制\n",
    "#### 3、radiansdict.fromkeys()：创建一个新字典，以序列seq中元素做字典的键，val为字典所有键对应的初始值\n",
    "#### 4、radiansdict.get(key, default=None)：返回指定键的值，如果值不在字典中返回default值\n",
    "#### 5、radiansdict.has_key(key)：如果键在字典dict里返回true，否则返回false\n",
    "#### 6、radiansdict.items()：以列表返回可遍历的(键, 值) 元组数组\n",
    "#### 7、radiansdict.keys()：以列表返回一个字典所有的键\n",
    "#### 8、radiansdict.setdefault(key, default=None)：和get()类似, 但如果键不已经存在于字典中，将会添加键并将值设为default\n",
    "#### 9、radiansdict.update(dict2)：把字典dict2的键/值对更新到dict里\n",
    "#### 10、radiansdict.values()：以列表返回字典中的所有值"
   ]
  },
  {
   "cell_type": "markdown",
   "metadata": {},
   "source": [
    "# 列表和字典结合使用"
   ]
  },
  {
   "cell_type": "markdown",
   "metadata": {},
   "source": [
    "### 列表用[ ]\n",
    "### 字典用{}"
   ]
  },
  {
   "cell_type": "code",
   "execution_count": 21,
   "metadata": {
    "collapsed": true
   },
   "outputs": [],
   "source": [
    "box= {}\n",
    "list = []"
   ]
  },
  {
   "cell_type": "code",
   "execution_count": 22,
   "metadata": {
    "collapsed": false
   },
   "outputs": [
    {
     "name": "stdout",
     "output_type": "stream",
     "text": [
      "<type 'dict'>\n",
      "<type 'list'>\n"
     ]
    }
   ],
   "source": [
    "print type(box)\n",
    "print type(list)"
   ]
  },
  {
   "cell_type": "code",
   "execution_count": 23,
   "metadata": {
    "collapsed": true
   },
   "outputs": [],
   "source": [
    "box = {'date':'20151202','time':'11:02:59','price':3452}"
   ]
  },
  {
   "cell_type": "markdown",
   "metadata": {},
   "source": [
    "### 在list中加入一个字典，相当于一个元素"
   ]
  },
  {
   "cell_type": "code",
   "execution_count": 34,
   "metadata": {
    "collapsed": true
   },
   "outputs": [],
   "source": [
    "list.append(box)"
   ]
  },
  {
   "cell_type": "code",
   "execution_count": 25,
   "metadata": {
    "collapsed": false
   },
   "outputs": [
    {
     "name": "stdout",
     "output_type": "stream",
     "text": [
      "[{'date': '20151202', 'price': 3452, 'time': '11:02:59'}]\n"
     ]
    }
   ],
   "source": [
    "print list"
   ]
  },
  {
   "cell_type": "code",
   "execution_count": 26,
   "metadata": {
    "collapsed": true
   },
   "outputs": [],
   "source": [
    "box = {}\n",
    "box = {'date':'20151202','time':'11:03:59','price':3500}"
   ]
  },
  {
   "cell_type": "code",
   "execution_count": 27,
   "metadata": {
    "collapsed": true
   },
   "outputs": [],
   "source": [
    "list.append(box)"
   ]
  },
  {
   "cell_type": "code",
   "execution_count": 28,
   "metadata": {
    "collapsed": false
   },
   "outputs": [
    {
     "name": "stdout",
     "output_type": "stream",
     "text": [
      "[{'date': '20151202', 'price': 3452, 'time': '11:02:59'}, {'date': '20151202', 'price': 3500, 'time': '11:03:59'}]\n"
     ]
    }
   ],
   "source": [
    "print list"
   ]
  },
  {
   "cell_type": "code",
   "execution_count": 29,
   "metadata": {
    "collapsed": false
   },
   "outputs": [
    {
     "name": "stdout",
     "output_type": "stream",
     "text": [
      "{'date': '20151202', 'price': 3452, 'time': '11:02:59'}\n",
      "{'date': '20151202', 'price': 3500, 'time': '11:03:59'}\n"
     ]
    }
   ],
   "source": [
    "for key in range(len(list)):\n",
    "    print list[key]"
   ]
  },
  {
   "cell_type": "code",
   "execution_count": 30,
   "metadata": {
    "collapsed": false
   },
   "outputs": [
    {
     "name": "stdout",
     "output_type": "stream",
     "text": [
      "20151202\n",
      "20151202\n"
     ]
    }
   ],
   "source": [
    "for key in range(len(list)):\n",
    "    print list[key]['date']"
   ]
  },
  {
   "cell_type": "code",
   "execution_count": 31,
   "metadata": {
    "collapsed": false
   },
   "outputs": [
    {
     "name": "stdout",
     "output_type": "stream",
     "text": [
      "20151202 3452 11:02:59\n",
      "20151202 3500 11:03:59\n"
     ]
    }
   ],
   "source": [
    "for key in range(len(list)):\n",
    "    print list[key]['date'],list[key]['price'],list[key]['time']"
   ]
  },
  {
   "cell_type": "code",
   "execution_count": 32,
   "metadata": {
    "collapsed": false
   },
   "outputs": [
    {
     "data": {
      "text/plain": [
       "{'date': '20151202', 'price': 3500, 'time': '11:03:59'}"
      ]
     },
     "execution_count": 32,
     "metadata": {},
     "output_type": "execute_result"
    }
   ],
   "source": [
    "list[1]"
   ]
  },
  {
   "cell_type": "code",
   "execution_count": 35,
   "metadata": {
    "collapsed": false
   },
   "outputs": [
    {
     "name": "stdout",
     "output_type": "stream",
     "text": [
      "{'date': '20151202', 'price': 3452, 'time': '11:02:59'}\n",
      "{'date': '20151202', 'price': 3500, 'time': '11:03:59'}\n",
      "{'date': '20151202', 'price': 3500, 'time': '11:03:59'}\n"
     ]
    }
   ],
   "source": [
    "for i in list:\n",
    "    print i"
   ]
  },
  {
   "cell_type": "code",
   "execution_count": 36,
   "metadata": {
    "collapsed": false
   },
   "outputs": [
    {
     "data": {
      "text/plain": [
       "3"
      ]
     },
     "execution_count": 36,
     "metadata": {},
     "output_type": "execute_result"
    }
   ],
   "source": [
    "len(list)"
   ]
  },
  {
   "cell_type": "code",
   "execution_count": 38,
   "metadata": {
    "collapsed": false
   },
   "outputs": [
    {
     "data": {
      "text/plain": [
       "list"
      ]
     },
     "execution_count": 38,
     "metadata": {},
     "output_type": "execute_result"
    }
   ],
   "source": [
    "type(range(len(list)))"
   ]
  },
  {
   "cell_type": "code",
   "execution_count": 41,
   "metadata": {
    "collapsed": false
   },
   "outputs": [
    {
     "name": "stdout",
     "output_type": "stream",
     "text": [
      "year:2016\n",
      "6\n"
     ]
    }
   ],
   "source": [
    "fourth = raw_input('year:')[3] \n",
    "print fourth"
   ]
  },
  {
   "cell_type": "code",
   "execution_count": 43,
   "metadata": {
    "collapsed": false
   },
   "outputs": [
    {
     "name": "stdout",
     "output_type": "stream",
     "text": [
      "Year: 2016\n",
      "Month: 3\n",
      "Day(1~31): 1\n",
      "March 1st, 2016\n"
     ]
    }
   ],
   "source": []
  }
 ],
 "metadata": {
  "kernelspec": {
   "display_name": "Python 2",
   "language": "python",
   "name": "python2"
  },
  "language_info": {
   "codemirror_mode": {
    "name": "ipython",
    "version": 2
   },
   "file_extension": ".py",
   "mimetype": "text/x-python",
   "name": "python",
   "nbconvert_exporter": "python",
   "pygments_lexer": "ipython2",
   "version": "2.7.13"
  }
 },
 "nbformat": 4,
 "nbformat_minor": 2
}

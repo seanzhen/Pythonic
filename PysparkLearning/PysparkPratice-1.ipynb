{
 "cells": [
  {
   "cell_type": "code",
   "execution_count": 1,
   "metadata": {
    "collapsed": true
   },
   "outputs": [],
   "source": [
    "import findspark\n",
    "findspark.init('/home/seanzhen52/spark-2.2.3-bin-hadoop2.7/')"
   ]
  },
  {
   "cell_type": "code",
   "execution_count": 2,
   "metadata": {
    "collapsed": true
   },
   "outputs": [],
   "source": [
    "from pyspark import SparkContext\n",
    "sc = SparkContext('local')"
   ]
  },
  {
   "cell_type": "code",
   "execution_count": 3,
   "metadata": {
    "collapsed": true
   },
   "outputs": [],
   "source": [
    "#列表创建\n",
    "nums = [1,2,3,4,5,6]\n",
    "rdd = sc.parallelize(nums)"
   ]
  },
  {
   "cell_type": "code",
   "execution_count": 5,
   "metadata": {},
   "outputs": [
    {
     "data": {
      "text/plain": [
       "6"
      ]
     },
     "execution_count": 5,
     "metadata": {},
     "output_type": "execute_result"
    }
   ],
   "source": [
    "rdd.count()"
   ]
  },
  {
   "cell_type": "markdown",
   "metadata": {},
   "source": [
    "RDD被创建好后，之后一般会发生两种操作：\n",
    "- 转换：基于现有的数据集创建一个新的数据集\n",
    "- 行动：在数据集上进行运算，返回计算值"
   ]
  },
  {
   "cell_type": "code",
   "execution_count": 11,
   "metadata": {
    "collapsed": true
   },
   "outputs": [
    {
     "name": "stdout",
     "output_type": "stream",
     "text": [
      "\u001b[0m\u001b[01;34manaconda3\u001b[0m/                       \u001b[01;34mspark-2.2.3-bin-hadoop2.7\u001b[0m/\r\n",
      "Anaconda3-5.0.0-Linux-x86_64.sh  \u001b[01;31mspark-2.2.3-bin-hadoop2.7.tgz\u001b[0m\r\n",
      "donald.json                      \u001b[01;34mspark-warehouse\u001b[0m/\r\n",
      "first pyspark.ipynb              test.py\r\n",
      "hillary.json                     tweets.json\r\n",
      "hs_err_pid2511.log               tweets.json.1\r\n",
      "hs_err_pid2996.log               \u001b[01;34mword2vecM_simple\u001b[0m/\r\n",
      "hs_err_pid3589.log               \u001b[01;31mword2vecM_simple.zip\u001b[0m\r\n",
      "hs_err_pid3741.log               WordCount.ipynb\r\n",
      "hs_err_pid7525.log               word.txt\r\n",
      "PysparkPratice-1.ipynb           \u001b[01;34mwriteback\u001b[0m/\r\n"
     ]
    }
   ],
   "source": [
    "ls"
   ]
  },
  {
   "cell_type": "code",
   "execution_count": 7,
   "metadata": {
    "collapsed": true
   },
   "outputs": [],
   "source": [
    "#惰性机制\n",
    "lines = sc.textFile('word.txt')"
   ]
  },
  {
   "cell_type": "code",
   "execution_count": 12,
   "metadata": {
    "collapsed": true
   },
   "outputs": [],
   "source": [
    "lineLengths = lines.map(lambda line:len(line))"
   ]
  },
  {
   "cell_type": "code",
   "execution_count": 20,
   "metadata": {},
   "outputs": [
    {
     "data": {
      "text/plain": [
       "[11, 11, 12, 21, 3, 15]"
      ]
     },
     "execution_count": 20,
     "metadata": {},
     "output_type": "execute_result"
    }
   ],
   "source": [
    "#collect():行动，以list的形式返回数据集中的所有元素\n",
    "lineLengths.collect()"
   ]
  },
  {
   "cell_type": "code",
   "execution_count": 13,
   "metadata": {},
   "outputs": [],
   "source": [
    "# “行动”操作才会触发真正的极算\n",
    "totalLength = lineLengths.reduce(lambda a,b:a+b)"
   ]
  },
  {
   "cell_type": "code",
   "execution_count": 14,
   "metadata": {},
   "outputs": [
    {
     "data": {
      "text/plain": [
       "73"
      ]
     },
     "execution_count": 14,
     "metadata": {},
     "output_type": "execute_result"
    }
   ],
   "source": [
    "totalLength"
   ]
  },
  {
   "cell_type": "code",
   "execution_count": 15,
   "metadata": {},
   "outputs": [
    {
     "name": "stdout",
     "output_type": "stream",
     "text": [
      "how are you\r\n",
      "hello world\r\n",
      "how dare you\r\n",
      "fuck you motherfucker\r\n",
      "lol\r\n",
      "read me please.\r\n"
     ]
    }
   ],
   "source": [
    "cat word.txt"
   ]
  },
  {
   "cell_type": "code",
   "execution_count": 16,
   "metadata": {},
   "outputs": [
    {
     "data": {
      "text/plain": [
       "2"
      ]
     },
     "execution_count": 16,
     "metadata": {},
     "output_type": "execute_result"
    }
   ],
   "source": [
    "#filter():转换操作，筛选\n",
    "#count():返回数据集中的元素个数\n",
    "lines.filter(lambda line:'how' in line).count()"
   ]
  },
  {
   "cell_type": "code",
   "execution_count": 17,
   "metadata": {},
   "outputs": [
    {
     "data": {
      "text/plain": [
       "3"
      ]
     },
     "execution_count": 17,
     "metadata": {},
     "output_type": "execute_result"
    }
   ],
   "source": [
    "#map():转换，将每个元素传递到函数，返回新的数据集\n",
    "#reduce():(输入两个参数并返回一个值)，聚合数据集中的元素\n",
    "lines.map(lambda line:len(line.split(' '))).reduce(lambda a,b:(a>b and a or b))"
   ]
  },
  {
   "cell_type": "markdown",
   "metadata": {},
   "source": [
    "### 缓存"
   ]
  },
  {
   "cell_type": "code",
   "execution_count": 22,
   "metadata": {},
   "outputs": [
    {
     "name": "stdout",
     "output_type": "stream",
     "text": [
      "3\n",
      "hadoop,Spark,Hive\n"
     ]
    }
   ],
   "source": [
    "list_1 = ['hadoop','Spark','Hive']\n",
    "rdd = sc.parallelize(list_1)\n",
    "print(rdd.count())\n",
    "print(','.join(rdd.collect()))"
   ]
  },
  {
   "cell_type": "markdown",
   "metadata": {},
   "source": [
    "上面代码执行过程中，前后共触发了两次从头到尾的计算。可以通过持久化（缓存）机制避免这种重复计算的开销。"
   ]
  },
  {
   "cell_type": "code",
   "execution_count": 23,
   "metadata": {},
   "outputs": [
    {
     "data": {
      "text/plain": [
       "ParallelCollectionRDD[14] at parallelize at PythonRDD.scala:540"
      ]
     },
     "execution_count": 23,
     "metadata": {},
     "output_type": "execute_result"
    }
   ],
   "source": [
    "rdd.cache()#语句执行到这里，并不会缓存rdd，这是rdd还没有被计算生成"
   ]
  },
  {
   "cell_type": "code",
   "execution_count": 24,
   "metadata": {},
   "outputs": [
    {
     "name": "stdout",
     "output_type": "stream",
     "text": [
      "3\n",
      "hadoop,Spark,Hive\n"
     ]
    }
   ],
   "source": [
    "#第一次行动操作，触发一次真正从头到尾的计算，这时才会执行上面的rdd.cache()，把这个rdd放到缓存中\n",
    "print(rdd.count())\n",
    "print(','.join(rdd.collect()))"
   ]
  },
  {
   "cell_type": "code",
   "execution_count": 25,
   "metadata": {},
   "outputs": [
    {
     "data": {
      "text/plain": [
       "['hadoop', 'Spark', 'Hive']"
      ]
     },
     "execution_count": 25,
     "metadata": {},
     "output_type": "execute_result"
    }
   ],
   "source": [
    "rdd.collect()"
   ]
  },
  {
   "cell_type": "code",
   "execution_count": 26,
   "metadata": {},
   "outputs": [
    {
     "data": {
      "text/plain": [
       "ParallelCollectionRDD[14] at parallelize at PythonRDD.scala:540"
      ]
     },
     "execution_count": 26,
     "metadata": {},
     "output_type": "execute_result"
    }
   ],
   "source": [
    "rdd.unpersist()#移除缓存"
   ]
  },
  {
   "cell_type": "markdown",
   "metadata": {},
   "source": [
    "### 分区\n",
    "- 本地模式：默认为本地机器的CPU数目，若设置了local[N],则默认为N；"
   ]
  },
  {
   "cell_type": "code",
   "execution_count": 29,
   "metadata": {
    "collapsed": true
   },
   "outputs": [],
   "source": [
    "array = [1,2,3,4,5]\n",
    "rdd = sc.parallelize(array,2)#设置为两个区"
   ]
  },
  {
   "cell_type": "code",
   "execution_count": 30,
   "metadata": {},
   "outputs": [
    {
     "data": {
      "text/plain": [
       "[1, 2, 3, 4, 5]"
      ]
     },
     "execution_count": 30,
     "metadata": {},
     "output_type": "execute_result"
    }
   ],
   "source": [
    "rdd.collect()"
   ]
  },
  {
   "cell_type": "code",
   "execution_count": 33,
   "metadata": {},
   "outputs": [],
   "source": [
    "rdd.foreach(print)"
   ]
  },
  {
   "cell_type": "markdown",
   "metadata": {},
   "source": [
    "### 键值(字典)"
   ]
  },
  {
   "cell_type": "code",
   "execution_count": 34,
   "metadata": {
    "collapsed": true
   },
   "outputs": [],
   "source": [
    "pairRDD = lines.flatMap(lambda line:line.split(\" \")).map(lambda word:(word,1))"
   ]
  },
  {
   "cell_type": "code",
   "execution_count": 36,
   "metadata": {},
   "outputs": [
    {
     "data": {
      "text/plain": [
       "[('how', 1),\n",
       " ('are', 1),\n",
       " ('you', 1),\n",
       " ('hello', 1),\n",
       " ('world', 1),\n",
       " ('how', 1),\n",
       " ('dare', 1),\n",
       " ('you', 1),\n",
       " ('fuck', 1),\n",
       " ('you', 1),\n",
       " ('motherfucker', 1),\n",
       " ('lol', 1),\n",
       " ('read', 1),\n",
       " ('me', 1),\n",
       " ('please.', 1)]"
      ]
     },
     "execution_count": 36,
     "metadata": {},
     "output_type": "execute_result"
    }
   ],
   "source": [
    "pairRDD.collect()"
   ]
  },
  {
   "cell_type": "code",
   "execution_count": 43,
   "metadata": {},
   "outputs": [
    {
     "data": {
      "text/plain": [
       "[('how', 2),\n",
       " ('are', 1),\n",
       " ('you', 3),\n",
       " ('hello', 1),\n",
       " ('world', 1),\n",
       " ('dare', 1),\n",
       " ('fuck', 1),\n",
       " ('motherfucker', 1),\n",
       " ('lol', 1),\n",
       " ('read', 1),\n",
       " ('me', 1),\n",
       " ('please.', 1)]"
      ]
     },
     "execution_count": 43,
     "metadata": {},
     "output_type": "execute_result"
    }
   ],
   "source": [
    "pairRDD.reduceByKey(lambda a,b:a+b).collect()"
   ]
  },
  {
   "cell_type": "code",
   "execution_count": 44,
   "metadata": {},
   "outputs": [
    {
     "data": {
      "text/plain": [
       "[('how', <pyspark.resultiterable.ResultIterable at 0x7fd9614a6b38>),\n",
       " ('are', <pyspark.resultiterable.ResultIterable at 0x7fd9614a6128>),\n",
       " ('you', <pyspark.resultiterable.ResultIterable at 0x7fd9614a66d8>),\n",
       " ('hello', <pyspark.resultiterable.ResultIterable at 0x7fd9614a6e80>),\n",
       " ('world', <pyspark.resultiterable.ResultIterable at 0x7fd9614a6e10>),\n",
       " ('dare', <pyspark.resultiterable.ResultIterable at 0x7fd9614a65f8>),\n",
       " ('fuck', <pyspark.resultiterable.ResultIterable at 0x7fd9614a6208>),\n",
       " ('motherfucker', <pyspark.resultiterable.ResultIterable at 0x7fd9614a6c18>),\n",
       " ('lol', <pyspark.resultiterable.ResultIterable at 0x7fd961471630>),\n",
       " ('read', <pyspark.resultiterable.ResultIterable at 0x7fd9614715f8>),\n",
       " ('me', <pyspark.resultiterable.ResultIterable at 0x7fd961471320>),\n",
       " ('please.', <pyspark.resultiterable.ResultIterable at 0x7fd9614714a8>)]"
      ]
     },
     "execution_count": 44,
     "metadata": {},
     "output_type": "execute_result"
    }
   ],
   "source": [
    "#对具有相同键的值进行分组。比如，对四个键值对(“spark”,1)、(“spark”,2)、(“hadoop”,3)和(“hadoop”,5)，采用groupByKey()后得到的结果是：(“spark”,(1,2))和(“hadoop”,(3,5))\n",
    "pairRDD.groupByKey().collect()"
   ]
  },
  {
   "cell_type": "code",
   "execution_count": 45,
   "metadata": {},
   "outputs": [
    {
     "data": {
      "text/plain": [
       "['how',\n",
       " 'are',\n",
       " 'you',\n",
       " 'hello',\n",
       " 'world',\n",
       " 'how',\n",
       " 'dare',\n",
       " 'you',\n",
       " 'fuck',\n",
       " 'you',\n",
       " 'motherfucker',\n",
       " 'lol',\n",
       " 'read',\n",
       " 'me',\n",
       " 'please.']"
      ]
     },
     "execution_count": 45,
     "metadata": {},
     "output_type": "execute_result"
    }
   ],
   "source": [
    "pairRDD.keys().collect()"
   ]
  },
  {
   "cell_type": "code",
   "execution_count": 47,
   "metadata": {},
   "outputs": [
    {
     "data": {
      "text/plain": [
       "[1, 1, 1, 1, 1, 1, 1, 1, 1, 1, 1, 1, 1, 1, 1]"
      ]
     },
     "execution_count": 47,
     "metadata": {},
     "output_type": "execute_result"
    }
   ],
   "source": [
    "pairRDD.values().collect()"
   ]
  },
  {
   "cell_type": "code",
   "execution_count": 48,
   "metadata": {},
   "outputs": [
    {
     "data": {
      "text/plain": [
       "[('are', 1),\n",
       " ('dare', 1),\n",
       " ('fuck', 1),\n",
       " ('hello', 1),\n",
       " ('how', 1),\n",
       " ('how', 1),\n",
       " ('lol', 1),\n",
       " ('me', 1),\n",
       " ('motherfucker', 1),\n",
       " ('please.', 1),\n",
       " ('read', 1),\n",
       " ('world', 1),\n",
       " ('you', 1),\n",
       " ('you', 1),\n",
       " ('you', 1)]"
      ]
     },
     "execution_count": 48,
     "metadata": {},
     "output_type": "execute_result"
    }
   ],
   "source": [
    "pairRDD.sortByKey().collect()"
   ]
  },
  {
   "cell_type": "code",
   "execution_count": 50,
   "metadata": {},
   "outputs": [
    {
     "data": {
      "text/plain": [
       "[('how', 2),\n",
       " ('are', 2),\n",
       " ('you', 2),\n",
       " ('hello', 2),\n",
       " ('world', 2),\n",
       " ('how', 2),\n",
       " ('dare', 2),\n",
       " ('you', 2),\n",
       " ('fuck', 2),\n",
       " ('you', 2),\n",
       " ('motherfucker', 2),\n",
       " ('lol', 2),\n",
       " ('read', 2),\n",
       " ('me', 2),\n",
       " ('please.', 2)]"
      ]
     },
     "execution_count": 50,
     "metadata": {},
     "output_type": "execute_result"
    }
   ],
   "source": [
    "pairRDD.mapValues(lambda x:x+1).collect()"
   ]
  },
  {
   "cell_type": "code",
   "execution_count": 51,
   "metadata": {},
   "outputs": [
    {
     "data": {
      "text/plain": [
       "[('spark', (1, 'fast')), ('spark', (2, 'fast'))]"
      ]
     },
     "execution_count": 51,
     "metadata": {},
     "output_type": "execute_result"
    }
   ],
   "source": [
    "p1 = sc.parallelize([('spark',1),('spark',2),('hadoop',3),('hadoop',5)])\n",
    "p2 = sc.parallelize([('spark','fast')])\n",
    "p1.join(p2).collect()"
   ]
  },
  {
   "cell_type": "code",
   "execution_count": 52,
   "metadata": {
    "collapsed": true
   },
   "outputs": [],
   "source": [
    "rdd = sc.parallelize([(\"spark\",2),(\"hadoop\",6),(\"hadoop\",4),(\"spark\",6)])"
   ]
  },
  {
   "cell_type": "code",
   "execution_count": 53,
   "metadata": {},
   "outputs": [
    {
     "data": {
      "text/plain": [
       "[('spark', 4.0), ('hadoop', 5.0)]"
      ]
     },
     "execution_count": 53,
     "metadata": {},
     "output_type": "execute_result"
    }
   ],
   "source": [
    "rdd.mapValues(lambda x : (x,1)).reduceByKey(lambda x,y : (x[0]+y[0],x[1] + y[1])).mapValues(lambda x : (x[0] / x[1])).collect()"
   ]
  },
  {
   "cell_type": "markdown",
   "metadata": {},
   "source": [
    "### 广播变量\n",
    "允许我们在每个机器上缓存一个只读的变量，通过这种方式，就可以高效地给每个节点提供一个大的输入数据集的副本"
   ]
  },
  {
   "cell_type": "code",
   "execution_count": 54,
   "metadata": {
    "collapsed": true
   },
   "outputs": [],
   "source": [
    "broadcastVar = sc.broadcast([1,2,3,3,4])"
   ]
  },
  {
   "cell_type": "code",
   "execution_count": 55,
   "metadata": {},
   "outputs": [
    {
     "data": {
      "text/plain": [
       "[1, 2, 3, 3, 4]"
      ]
     },
     "execution_count": 55,
     "metadata": {},
     "output_type": "execute_result"
    }
   ],
   "source": [
    "broadcastVar.value"
   ]
  },
  {
   "cell_type": "markdown",
   "metadata": {},
   "source": [
    "### 累加器"
   ]
  },
  {
   "cell_type": "code",
   "execution_count": 56,
   "metadata": {
    "collapsed": true
   },
   "outputs": [],
   "source": [
    "accum = sc.accumulator(0)"
   ]
  },
  {
   "cell_type": "code",
   "execution_count": 57,
   "metadata": {
    "collapsed": true
   },
   "outputs": [],
   "source": [
    "sc.parallelize([1,2,3,4]).foreach(lambda x:accum.add(x))"
   ]
  },
  {
   "cell_type": "code",
   "execution_count": 58,
   "metadata": {},
   "outputs": [
    {
     "data": {
      "text/plain": [
       "10"
      ]
     },
     "execution_count": 58,
     "metadata": {},
     "output_type": "execute_result"
    }
   ],
   "source": [
    "accum.value"
   ]
  },
  {
   "cell_type": "code",
   "execution_count": 59,
   "metadata": {},
   "outputs": [
    {
     "name": "stdout",
     "output_type": "stream",
     "text": [
      "\u001b[0m\u001b[01;34manaconda3\u001b[0m/                       \u001b[01;34mspark-2.2.3-bin-hadoop2.7\u001b[0m/\r\n",
      "Anaconda3-5.0.0-Linux-x86_64.sh  \u001b[01;31mspark-2.2.3-bin-hadoop2.7.tgz\u001b[0m\r\n",
      "donald.json                      \u001b[01;34mspark-warehouse\u001b[0m/\r\n",
      "first pyspark.ipynb              test.py\r\n",
      "hillary.json                     tweets.json\r\n",
      "hs_err_pid2511.log               tweets.json.1\r\n",
      "hs_err_pid2996.log               \u001b[01;34mword2vecM_simple\u001b[0m/\r\n",
      "hs_err_pid3589.log               \u001b[01;31mword2vecM_simple.zip\u001b[0m\r\n",
      "hs_err_pid3741.log               WordCount.ipynb\r\n",
      "hs_err_pid7525.log               word.txt\r\n",
      "PysparkPratice-1.ipynb           \u001b[01;34mwriteback\u001b[0m/\r\n"
     ]
    }
   ],
   "source": [
    "ls"
   ]
  },
  {
   "cell_type": "code",
   "execution_count": 60,
   "metadata": {
    "collapsed": true
   },
   "outputs": [],
   "source": [
    "jsonstr = sc.textFile('donald.json')"
   ]
  },
  {
   "cell_type": "code",
   "execution_count": 65,
   "metadata": {},
   "outputs": [
    {
     "data": {
      "text/plain": [
       "['{',\n",
       " '  \"count\": 99, ',\n",
       " '  \"results\": [',\n",
       " '    {',\n",
       " '      \"id\": 1, ',\n",
       " '      \"polarity\": 1, ',\n",
       " '      \"text\": \"Source: Ivanka Trump making calls on child care legislation https://t.co/e7Dk6AhW7f\", ',\n",
       " '      \"user_location\": \"Washington\", ',\n",
       " '      \"subjectivity\": 0.0',\n",
       " '    }, ']"
      ]
     },
     "execution_count": 65,
     "metadata": {},
     "output_type": "execute_result"
    }
   ],
   "source": [
    "jsonstr.take(10)"
   ]
  },
  {
   "cell_type": "code",
   "execution_count": 66,
   "metadata": {
    "collapsed": true
   },
   "outputs": [],
   "source": [
    "import json"
   ]
  },
  {
   "cell_type": "code",
   "execution_count": 69,
   "metadata": {},
   "outputs": [],
   "source": [
    "res = jsonstr.map(lambda s:json.loads(s))"
   ]
  },
  {
   "cell_type": "code",
   "execution_count": null,
   "metadata": {
    "collapsed": true
   },
   "outputs": [],
   "source": []
  }
 ],
 "metadata": {
  "kernelspec": {
   "display_name": "Python 3",
   "language": "python",
   "name": "python3"
  },
  "language_info": {
   "codemirror_mode": {
    "name": "ipython",
    "version": 3
   },
   "file_extension": ".py",
   "mimetype": "text/x-python",
   "name": "python",
   "nbconvert_exporter": "python",
   "pygments_lexer": "ipython3",
   "version": "3.6.2"
  }
 },
 "nbformat": 4,
 "nbformat_minor": 2
}

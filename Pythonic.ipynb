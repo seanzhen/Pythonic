{
 "cells": [
  {
   "cell_type": "code",
   "execution_count": 2,
   "metadata": {
    "collapsed": true
   },
   "outputs": [],
   "source": [
    "import numpy"
   ]
  },
  {
   "cell_type": "markdown",
   "metadata": {},
   "source": [
    "# 判断逻辑真或假"
   ]
  },
  {
   "cell_type": "code",
   "execution_count": 5,
   "metadata": {
    "collapsed": false
   },
   "outputs": [
    {
     "name": "stdout",
     "output_type": "stream",
     "text": [
      "好的代码\n",
      "坏的代码\n"
     ]
    }
   ],
   "source": [
    "name = 'jack'\n",
    "fruits = {'apple','orange','grape'}\n",
    "owners = {'1001':'罗昊','1002':'王大锤'}\n",
    "\n",
    "# 好的代码：\n",
    "if name and fruits and owners:\n",
    "    print('好的代码')\n",
    "    \n",
    "# 不好的代码\n",
    "if name !='' and len(fruits)>0 and owners!={}:\n",
    "    print('坏的代码')"
   ]
  },
  {
   "cell_type": "markdown",
   "metadata": {},
   "source": [
    "# 善于运用in运算符"
   ]
  },
  {
   "cell_type": "code",
   "execution_count": 6,
   "metadata": {
    "collapsed": false
   },
   "outputs": [
    {
     "name": "stdout",
     "output_type": "stream",
     "text": [
      "1\n",
      "This hhe\n"
     ]
    }
   ],
   "source": [
    "name = 'Hao Luo'\n",
    "\n",
    "#好的代码\n",
    "if 'L' in name:\n",
    "    print 1\n",
    "\n",
    "# 不好的代码\n",
    "if name.find('L') !=-1:\n",
    "    print('This hhe')"
   ]
  },
  {
   "cell_type": "markdown",
   "metadata": {},
   "source": [
    "# 用序列构建字符串"
   ]
  },
  {
   "cell_type": "code",
   "execution_count": 8,
   "metadata": {
    "collapsed": false
   },
   "outputs": [
    {
     "name": "stdout",
     "output_type": "stream",
     "text": [
      "jack\n",
      "jack\n"
     ]
    }
   ],
   "source": [
    "chars = ['j','a','c','k']\n",
    "# 好的代码\n",
    "name = ''.join(chars)\n",
    "print name\n",
    "\n",
    "# 不好的代码\n",
    "name_1 = ''\n",
    "for char in chars:\n",
    "    name_1 += char\n",
    "print name_1"
   ]
  },
  {
   "cell_type": "markdown",
   "metadata": {},
   "source": [
    "# EAFP优于LBYL\n",
    "## EAFP-- Eaiser to Ask Forgiveness than Permission\n",
    "## LBYL-- Look Before You Leap"
   ]
  },
  {
   "cell_type": "code",
   "execution_count": 9,
   "metadata": {
    "collapsed": false
   },
   "outputs": [
    {
     "name": "stdout",
     "output_type": "stream",
     "text": [
      "5\n",
      "5\n"
     ]
    }
   ],
   "source": [
    "d = {'x':'5'}\n",
    "# 好的代码\n",
    "try:\n",
    "    value = int(d['x'])\n",
    "    print value\n",
    "except(KeyError,TypeError,ValueError):\n",
    "    value = None\n",
    "    \n",
    "# 不好的代码\n",
    "\n",
    "if 'x' in d and isinstance(d['x'],str) and d['x'].isdigit():\n",
    "    value = int(d['x'])\n",
    "    print value\n",
    "else:\n",
    "    value = None"
   ]
  },
  {
   "cell_type": "markdown",
   "metadata": {},
   "source": [
    "# 用生成式生成列表"
   ]
  },
  {
   "cell_type": "code",
   "execution_count": 14,
   "metadata": {
    "collapsed": false
   },
   "outputs": [
    {
     "name": "stdout",
     "output_type": "stream",
     "text": [
      "[60, 45, 33]\n",
      "[60, 45, 33]\n"
     ]
    }
   ],
   "source": [
    "data = [7,20,3,15,11]\n",
    "# 好的代码\n",
    "result = [num*3 for num in data if num>10]\n",
    "print result\n",
    "\n",
    "# 不好的代码\n",
    "result_1 = []\n",
    "for i in data:\n",
    "    if i>10:\n",
    "        result_1.append(i*3)\n",
    "print result_1"
   ]
  },
  {
   "cell_type": "markdown",
   "metadata": {},
   "source": [
    "# 用zip组合键和值来创建字典"
   ]
  },
  {
   "cell_type": "code",
   "execution_count": 16,
   "metadata": {
    "collapsed": false
   },
   "outputs": [
    {
     "name": "stdout",
     "output_type": "stream",
     "text": [
      "{'1003': u'\\u767e\\u5143\\u515a', '1002': u'\\u738b\\u5927\\u9524', '1001': u'\\u7f57\\u660a'}\n",
      "{'1003': u'\\u767e\\u5143\\u515a', '1002': u'\\u738b\\u5927\\u9524', '1001': u'\\u7f57\\u660a'}\n"
     ]
    }
   ],
   "source": [
    "keys = ['1001','1002','1003']\n",
    "values = [u'罗昊',u'王大锤',u'百元党']\n",
    "\n",
    "# 好的代码\n",
    "d = dict(zip(keys,values))\n",
    "print d\n",
    "# 不好的代码\n",
    "s = {}\n",
    "for i,key in enumerate(keys):\n",
    "    s[key] = values[i]\n",
    "print s"
   ]
  },
  {
   "cell_type": "code",
   "execution_count": null,
   "metadata": {
    "collapsed": true
   },
   "outputs": [],
   "source": []
  }
 ],
 "metadata": {
  "anaconda-cloud": {},
  "kernelspec": {
   "display_name": "Python [Root]",
   "language": "python",
   "name": "Python [Root]"
  },
  "language_info": {
   "codemirror_mode": {
    "name": "ipython",
    "version": 2
   },
   "file_extension": ".py",
   "mimetype": "text/x-python",
   "name": "python",
   "nbconvert_exporter": "python",
   "pygments_lexer": "ipython2",
   "version": "2.7.12"
  }
 },
 "nbformat": 4,
 "nbformat_minor": 0
}
